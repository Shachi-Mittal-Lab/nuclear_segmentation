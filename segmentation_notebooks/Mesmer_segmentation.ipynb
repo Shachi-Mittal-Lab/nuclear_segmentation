{
 "cells": [
  {
   "cell_type": "code",
   "execution_count": 1,
   "metadata": {
    "executionInfo": {
     "elapsed": 324,
     "status": "ok",
     "timestamp": 1692043078768,
     "user": {
      "displayName": "Georgii Khachaturov",
      "userId": "04230512400272876169"
     },
     "user_tz": 420
    },
    "id": "W0JB0dMAWa_B"
   },
   "outputs": [],
   "source": [
    "import numpy as np\n",
    "import matplotlib.pyplot as plt\n",
    "import tifffile as tiff\n",
    "import os\n",
    "from deepcell.applications import Mesmer\n",
    "from deepcell.utils.plot_utils import make_outline_overlay\n",
    "from deepcell.utils.tracking_utils import trks_stats, load_trks\n",
    "from deepcell.utils.plot_utils import create_rgb_image\n",
    "from deepcell.utils.transform_utils import pixelwise_transform\n",
    "import skimage.io as io\n",
    "import skimage.segmentation"
   ]
  },
  {
   "cell_type": "code",
   "execution_count": 16,
   "metadata": {},
   "outputs": [],
   "source": [
    "def Mesmer_segmentor(in_dir, save_dir):\n",
    "    '''\n",
    "    Produces binary masks for evaluation using Mesmer segementation algorithm\n",
    "\n",
    "    Parameters\n",
    "    in_dir: str\n",
    "        the path to the directory containing the grayscaled DAPI channel images of various fields\n",
    "    save_dir: str\n",
    "        the path to the directory where the binary masks will be saved. Each tiff image in the input directory will\n",
    "        have a corresponding binary mask in the save directory\n",
    "    '''\n",
    "    \n",
    "    # iterating over all files in the input directory\n",
    "    for file in os.listdir(in_dir):\n",
    "        # only processes tiff images\n",
    "        if file[-5:]=='.tiff' or file[-4:]=='.tif':\n",
    "            # reads the grayscaled DAPI channel of each field as an array\n",
    "            DAPI_gray = np.array([io.imread(os.path.join(in_dir, file))])\n",
    "            # first and third channels should be zero for Mesmer to perform nuclear segmentation\n",
    "            DAPI_gray[:, :, : , 0] = 0\n",
    "            DAPI_gray[:, :, : , 2] = 0\n",
    "            # Creates an \"rgb image\" where green channel is nucleus and the blue channel is cytoplasm (zeros over\n",
    "            # here since performing only nuclear segmentation)\n",
    "            rgb_images = create_rgb_image(DAPI_gray[:, :, :, 1:], channel_colors=['green', 'blue'])\n",
    "            # predicting nuclei using the Mesmer model\n",
    "            app = Mesmer()\n",
    "            segmentation_predictions = app.predict(rgb_images[:, :, :, 1:], image_mpp=0.5, compartment='nuclear')\n",
    "            # extracting nuclei label array\n",
    "            label_mask = segmentation_predictions[0, :, :, 0]\n",
    "            # Post-processing of prediction label arrays into binary masks for evaluation. The overall effect of\n",
    "            # step is that nuclei that are sparse are unchanged but nuclei that are touching are eroded by one\n",
    "            # pixel where they touch other nuclei. This is necessary for binary connected component analysis during\n",
    "            # F1-score calculation for segmentation evaluation.\n",
    "            # Finding the pixels that are touching between any two nuclei\n",
    "            boundary_bool = skimage.segmentation.find_boundaries(label_mask, connectivity=label_mask.ndim,\n",
    "                                                                 mode='outer', background=0)\n",
    "            # Converting these pixels to the background value in the label array\n",
    "            label_mask[boundary_bool] = 0\n",
    "            # Converting the label array into a binary mask of foreground (255) and background (0)\n",
    "            nuclei_mask_final = np.zeros((label_mask.shape[0], label_mask.shape[1]))\n",
    "            nuclei_mask_final[label_mask != 0] = 255\n",
    "            nuclei_mask_final = np.uint8(nuclei_mask_final)\n",
    "            # saving the binary mask in the save directory\n",
    "            io.imsave(os.path.join(save_dir, file[:file.find('.')] + '.tiff'), nuclei_mask_final)\n",
    "        else:\n",
    "            pass\n",
    "        \n",
    "    return None"
   ]
  },
  {
   "cell_type": "code",
   "execution_count": 19,
   "metadata": {},
   "outputs": [
    {
     "name": "stdout",
     "output_type": "stream",
     "text": [
      "WARNING:tensorflow:No training configuration found in save file, so the model was *not* compiled. Compile it manually.\n"
     ]
    },
    {
     "name": "stderr",
     "output_type": "stream",
     "text": [
      "WARNING:tensorflow:No training configuration found in save file, so the model was *not* compiled. Compile it manually.\n",
      "WARNING:root:Found constant value array in batch 0 and channel 1. Normalizing as zeros.\n"
     ]
    },
    {
     "name": "stdout",
     "output_type": "stream",
     "text": [
      "WARNING:tensorflow:No training configuration found in save file, so the model was *not* compiled. Compile it manually.\n"
     ]
    },
    {
     "name": "stderr",
     "output_type": "stream",
     "text": [
      "WARNING:tensorflow:No training configuration found in save file, so the model was *not* compiled. Compile it manually.\n",
      "WARNING:root:Found constant value array in batch 0 and channel 1. Normalizing as zeros.\n"
     ]
    },
    {
     "name": "stdout",
     "output_type": "stream",
     "text": [
      "WARNING:tensorflow:No training configuration found in save file, so the model was *not* compiled. Compile it manually.\n"
     ]
    },
    {
     "name": "stderr",
     "output_type": "stream",
     "text": [
      "WARNING:tensorflow:No training configuration found in save file, so the model was *not* compiled. Compile it manually.\n",
      "WARNING:root:Found constant value array in batch 0 and channel 1. Normalizing as zeros.\n"
     ]
    },
    {
     "name": "stdout",
     "output_type": "stream",
     "text": [
      "WARNING:tensorflow:No training configuration found in save file, so the model was *not* compiled. Compile it manually.\n"
     ]
    },
    {
     "name": "stderr",
     "output_type": "stream",
     "text": [
      "WARNING:tensorflow:No training configuration found in save file, so the model was *not* compiled. Compile it manually.\n",
      "WARNING:root:Found constant value array in batch 0 and channel 1. Normalizing as zeros.\n"
     ]
    },
    {
     "name": "stdout",
     "output_type": "stream",
     "text": [
      "WARNING:tensorflow:No training configuration found in save file, so the model was *not* compiled. Compile it manually.\n"
     ]
    },
    {
     "name": "stderr",
     "output_type": "stream",
     "text": [
      "WARNING:tensorflow:No training configuration found in save file, so the model was *not* compiled. Compile it manually.\n",
      "WARNING:root:Found constant value array in batch 0 and channel 1. Normalizing as zeros.\n"
     ]
    }
   ],
   "source": [
    "# Replace the strings for in_dir and save_dir to paths on the local machine\n",
    "in_dir = r'C:\\Users\\mrl\\Desktop\\nuclear_seg\\DAPI_grayscale'\n",
    "save_dir = r'C:\\Users\\mrl\\Desktop\\nuclear_seg\\Mesmer_Binary_masks'\n",
    "# To create binary masks using Mesmer segmentation algorithm\n",
    "Mesmer_segmentor(in_dir, save_dir)"
   ]
  }
 ],
 "metadata": {
  "colab": {
   "provenance": [
    {
     "file_id": "1nA4Uyg_-Qzi1hUmWgpmS724a8Iz8aJ_9",
     "timestamp": 1676511797307
    }
   ]
  },
  "kernelspec": {
   "display_name": "Python 3 (ipykernel)",
   "language": "python",
   "name": "python3"
  },
  "language_info": {
   "codemirror_mode": {
    "name": "ipython",
    "version": 3
   },
   "file_extension": ".py",
   "mimetype": "text/x-python",
   "name": "python",
   "nbconvert_exporter": "python",
   "pygments_lexer": "ipython3",
   "version": "3.9.12"
  },
  "vscode": {
   "interpreter": {
    "hash": "7a666879e664017b9c200781d41e6e9cda4f71b3875c8396578fdccce2d2df1c"
   }
  }
 },
 "nbformat": 4,
 "nbformat_minor": 1
}
