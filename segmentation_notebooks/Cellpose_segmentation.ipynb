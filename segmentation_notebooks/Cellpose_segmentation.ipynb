{
 "cells": [
  {
   "cell_type": "code",
   "execution_count": 1,
   "metadata": {
    "executionInfo": {
     "elapsed": 386,
     "status": "ok",
     "timestamp": 1691979728454,
     "user": {
      "displayName": "Georgii Khachaturov",
      "userId": "04230512400272876169"
     },
     "user_tz": 420
    },
    "id": "2CnOpxUmZJth"
   },
   "outputs": [],
   "source": [
    "import matplotlib.pyplot as plt\n",
    "import numpy as np\n",
    "import os\n",
    "import tifffile as tiff\n",
    "import skimage.io as io\n",
    "from skimage import color\n",
    "import skimage.segmentation\n",
    "from cellpose import models"
   ]
  },
  {
   "cell_type": "code",
   "execution_count": 1,
   "metadata": {},
   "outputs": [],
   "source": [
    "def Cellpose_segmentor(in_dir, save_dir):\n",
    "    '''\n",
    "    Produces binary masks for evaluation using CellPose segementation algorithm\n",
    "\n",
    "    Parameters\n",
    "    in_dir: str\n",
    "        the path to the directory containing the grayscaled DAPI channel images of various fields\n",
    "    save_dir: str\n",
    "        the path to the directory where the binary masks will be saved. Each tiff image in the input directory will\n",
    "        have a corresponding binary mask in the save directory\n",
    "    '''\n",
    "    \n",
    "    # iterating over all files in the input directory\n",
    "    for file in os.listdir(in_dir):\n",
    "        \n",
    "        # only processes tiff images\n",
    "        if file[-5:]=='.tiff' or file[-4:]=='.tif':\n",
    "            # reads the grayscaled DAPI channel of each field as an array\n",
    "            DAPI_gray = io.imread(os.path.join(in_dir, file), as_gray=True)\n",
    "            # choosing the 'nuclei' in-built model from CellPose\n",
    "            model = models.Cellpose(model_type='nuclei')\n",
    "            # specifying that the images are grayscaled\n",
    "            channels = [0, 0]\n",
    "            # predicting nuclei using the CellPose model\n",
    "            label_mask, flows, styles, diams = model.eval(DAPI_gray, diameter=None, channels=channels)\n",
    "            \n",
    "            # Post-processing of prediction label arrays into binary masks for evaluation. The overall effect of\n",
    "            # step is that nuclei that are sparse are unchanged but nuclei that are touching are eroded by one\n",
    "            # pixel where they touch other nuclei. This is necessary for binary connected component analysis during\n",
    "            # F1-score calculation for segmentation evaluation.\n",
    "            # Finding the pixels that are touching between any two nuclei\n",
    "            boundary_bool = skimage.segmentation.find_boundaries(label_mask, connectivity=label_mask.ndim,\n",
    "                                                                 mode='outer', background=0)\n",
    "            # Converting these pixels to the background value in the label array\n",
    "            label_mask[boundary_bool] = 0\n",
    "            # Converting the label array into a binary mask of foreground (255) and background (0)\n",
    "            nuclei_mask_final = np.zeros((label_mask.shape[0], label_mask.shape[1]))\n",
    "            nuclei_mask_final[label_mask != 0] = 255\n",
    "            nuclei_mask_final = np.uint8(nuclei_mask_final)\n",
    "            \n",
    "            # saving the binary mask in the save directory\n",
    "            io.imsave(os.path.join(save_dir, file[:file.find('.')] + '.tiff'), nuclei_mask_final)\n",
    "        else:\n",
    "            pass\n",
    "        \n",
    "    return None"
   ]
  },
  {
   "cell_type": "code",
   "execution_count": 3,
   "metadata": {
    "id": "LpddssGFTHV8"
   },
   "outputs": [],
   "source": [
    "# Replace the strings for in_dir and save_dir to paths on the local machine\n",
    "in_dir = r'C:\\Users\\mrl\\Desktop\\nuclear_seg\\DAPI_grayscale'\n",
    "save_dir = r'C:\\Users\\mrl\\Desktop\\nuclear_seg\\Cellpose_Binary_masks'\n",
    "# To create binary masks using CellPose segmentation algorithm\n",
    "Cellpose_segmentor(in_dir, save_dir)"
   ]
  }
 ],
 "metadata": {
  "colab": {
   "authorship_tag": "ABX9TyP5ubqlYgE557Yx0Klt/lqM",
   "provenance": []
  },
  "kernelspec": {
   "display_name": "Python 3 (ipykernel)",
   "language": "python",
   "name": "python3"
  },
  "language_info": {
   "codemirror_mode": {
    "name": "ipython",
    "version": 3
   },
   "file_extension": ".py",
   "mimetype": "text/x-python",
   "name": "python",
   "nbconvert_exporter": "python",
   "pygments_lexer": "ipython3",
   "version": "3.9.12"
  }
 },
 "nbformat": 4,
 "nbformat_minor": 1
}
