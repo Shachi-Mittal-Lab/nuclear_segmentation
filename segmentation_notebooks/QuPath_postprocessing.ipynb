{
 "cells": [
  {
   "cell_type": "code",
   "execution_count": 1,
   "id": "73f40c4b",
   "metadata": {},
   "outputs": [],
   "source": [
    "import numpy as np\n",
    "import skimage.io as io\n",
    "import skimage.segmentation\n",
    "import skimage.morphology\n",
    "import os"
   ]
  },
  {
   "cell_type": "markdown",
   "id": "81d155b5",
   "metadata": {},
   "source": [
    "Prior to running this notebook, perform Cell Detection in QuPath using DAPI channel as a nuclear marker. Then export the rendered image of the nuclear segmentation map (with all nuclear channels diabled) as tiff files and move them to a folder (in_dir). This notebook is used to convert the nuclear segmentation map that QuPath renders into a binary nuclear mask that can be used for evaluation and comparison with other nuclear segmentation platforms.\n",
    "\n",
    "An alternative way to arriving at the binary nuclear mask is to use a groovy script which can automate this process in QuPath. We chose to use the former method."
   ]
  },
  {
   "cell_type": "code",
   "execution_count": 2,
   "id": "1d058745",
   "metadata": {},
   "outputs": [],
   "source": [
    "def QuPath_postprocessor(in_dir, save_dir):\n",
    "    '''\n",
    "    Converts nuclear segmentation map rendered in QuPath GUI to a binary nuclear mask to be used for evaluation\n",
    "\n",
    "    Parameters\n",
    "    in_dir: str\n",
    "        the path to the directory containing the nuclear segmentation map images rendered in QuPath\n",
    "    save_dir: str\n",
    "        the path to the directory where the binary masks will be saved. Each tiff image in the input directory will\n",
    "        have a corresponding binary mask in the save directory\n",
    "    '''\n",
    "    \n",
    "    # iterating over all files in the input directory\n",
    "    for file in os.listdir(in_dir):\n",
    "        # only processes tiff images\n",
    "        if file[-5:]=='.tiff' or file[-4:]=='.tif':\n",
    "            # reads the QuPath-rendered image as an array\n",
    "            platform_img = io.imread(os.path.join(in_dir, file))\n",
    "            # creating a nuclear mask where all the nucleus body regions are white/foreground. The nucleaus border\n",
    "            # and non-nuclei regions are black/background.\n",
    "            nuclei_mask = np.uint8(np.zeros((platform_img.shape[0], platform_img.shape[1])))\n",
    "            r, g, b = platform_img[:,:,0], platform_img[:,:,1], platform_img[:,:,2]\n",
    "            mask = ((r == 255) & (g == 255) & (b == 255))\n",
    "            nuclei_mask[mask] = 255\n",
    "            # The nucleus border needs to also be white/foreground in the final binary mask. Additionally, nuclei\n",
    "            # that are touching need to have one pixel eroded from either nucleus.\n",
    "            labels = skimage.morphology.label(nuclei_mask)\n",
    "            labels = skimage.segmentation.relabel_sequential(labels)[0]\n",
    "            labels = skimage.segmentation.expand_labels(labels, distance=2)\n",
    "            boundary_bool = skimage.segmentation.find_boundaries(labels, connectivity=2, mode='outer', background=0)\n",
    "            labels[boundary_bool] = 0\n",
    "            nuclei_mask_final = np.uint8(np.zeros((platform_img.shape[0], platform_img.shape[1])))\n",
    "            nuclei_mask_final[labels != 0] = 255\n",
    "            # saving the binary mask in the save directory\n",
    "            io.imsave(os.path.join(save_dir, file[:file.find('.')] + '.tiff'), nuclei_mask_final)\n",
    "        else:\n",
    "            pass\n",
    "        \n",
    "    return None"
   ]
  },
  {
   "cell_type": "code",
   "execution_count": 3,
   "id": "fe2b5a52",
   "metadata": {},
   "outputs": [],
   "source": [
    "# Replace the strings for in_dir and save_dir to paths on the local machine\n",
    "in_dir = '/Users/abishek/Desktop/MRL/Platforms/Code/nuclear_seg/QuPath_rendered_masks'\n",
    "save_dir = '/Users/abishek/Desktop/MRL/Platforms/Code/nuclear_seg/QuPath_binary_masks'\n",
    "# To create binary masks from QuPath rendered nuclear segmentation map images\n",
    "QuPath_postprocessor(in_dir, save_dir)"
   ]
  }
 ],
 "metadata": {
  "kernelspec": {
   "display_name": "Python 3 (ipykernel)",
   "language": "python",
   "name": "python3"
  },
  "language_info": {
   "codemirror_mode": {
    "name": "ipython",
    "version": 3
   },
   "file_extension": ".py",
   "mimetype": "text/x-python",
   "name": "python",
   "nbconvert_exporter": "python",
   "pygments_lexer": "ipython3",
   "version": "3.9.12"
  }
 },
 "nbformat": 4,
 "nbformat_minor": 5
}
