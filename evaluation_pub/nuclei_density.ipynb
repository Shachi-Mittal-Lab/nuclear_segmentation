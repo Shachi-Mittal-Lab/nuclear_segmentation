{
 "cells": [
  {
   "cell_type": "code",
   "execution_count": 1,
   "metadata": {},
   "outputs": [],
   "source": [
    "import skimage.morphology\n",
    "import skimage.io as io\n",
    "import numpy as np\n",
    "import os\n",
    "import pandas as pd\n",
    "import seaborn as sns\n",
    "import shutil"
   ]
  },
  {
   "cell_type": "code",
   "execution_count": 2,
   "metadata": {},
   "outputs": [],
   "source": [
    "in_dir_path = r\"D:\\nuclear_seg\\root_HT\\Fields\""
   ]
  },
  {
   "cell_type": "code",
   "execution_count": 3,
   "metadata": {},
   "outputs": [],
   "source": [
    "num_nuclei_dict = {'ROI': [], 'num_nuclei': []}\n",
    "for file in os.listdir(in_dir_path):\n",
    "    fpath = os.path.join(in_dir_path, file, 'ground_truth', 'gr_tr.tiff')\n",
    "\n",
    "    gr_tr_mask = io.imread(fpath)\n",
    "    area = gr_tr_mask.shape[0] * gr_tr_mask.shape[1]\n",
    "    gr_tr_mask_relabeled = skimage.morphology.label(gr_tr_mask)\n",
    "    num_nuclei = len(np.unique(gr_tr_mask_relabeled))\n",
    "    num_nuclei_dict['ROI'].append(file)\n",
    "    num_nuclei_dict['num_nuclei'].append(num_nuclei/area)"
   ]
  },
  {
   "cell_type": "code",
   "execution_count": 4,
   "metadata": {},
   "outputs": [],
   "source": [
    "num_nuclei_df = pd.DataFrame(num_nuclei_dict)"
   ]
  },
  {
   "cell_type": "code",
   "execution_count": 5,
   "metadata": {},
   "outputs": [
    {
     "data": {
      "text/html": [
       "<div>\n",
       "<style scoped>\n",
       "    .dataframe tbody tr th:only-of-type {\n",
       "        vertical-align: middle;\n",
       "    }\n",
       "\n",
       "    .dataframe tbody tr th {\n",
       "        vertical-align: top;\n",
       "    }\n",
       "\n",
       "    .dataframe thead th {\n",
       "        text-align: right;\n",
       "    }\n",
       "</style>\n",
       "<table border=\"1\" class=\"dataframe\">\n",
       "  <thead>\n",
       "    <tr style=\"text-align: right;\">\n",
       "      <th></th>\n",
       "      <th>ROI</th>\n",
       "      <th>num_nuclei</th>\n",
       "    </tr>\n",
       "  </thead>\n",
       "  <tbody>\n",
       "    <tr>\n",
       "      <th>0</th>\n",
       "      <td>Bph2_45174_14597_160_246</td>\n",
       "      <td>0.000626</td>\n",
       "    </tr>\n",
       "    <tr>\n",
       "      <th>1</th>\n",
       "      <td>Bph2_45174_14597_2032_2032</td>\n",
       "      <td>0.003021</td>\n",
       "    </tr>\n",
       "    <tr>\n",
       "      <th>2</th>\n",
       "      <td>Bph2_45174_14597_2492_682</td>\n",
       "      <td>0.002792</td>\n",
       "    </tr>\n",
       "    <tr>\n",
       "      <th>3</th>\n",
       "      <td>Bph2_45174_14597_3625_2420</td>\n",
       "      <td>0.001770</td>\n",
       "    </tr>\n",
       "    <tr>\n",
       "      <th>4</th>\n",
       "      <td>P01_10001_54032_15278_550_400</td>\n",
       "      <td>0.002587</td>\n",
       "    </tr>\n",
       "    <tr>\n",
       "      <th>5</th>\n",
       "      <td>P01_10002_41478_16613_300_50</td>\n",
       "      <td>0.002581</td>\n",
       "    </tr>\n",
       "    <tr>\n",
       "      <th>6</th>\n",
       "      <td>P01_10003_59622_10626_650_100</td>\n",
       "      <td>0.002594</td>\n",
       "    </tr>\n",
       "    <tr>\n",
       "      <th>7</th>\n",
       "      <td>P01_10004_45412_13528_300_300</td>\n",
       "      <td>0.005500</td>\n",
       "    </tr>\n",
       "    <tr>\n",
       "      <th>8</th>\n",
       "      <td>P01_10005_54191_8632_600_100</td>\n",
       "      <td>0.001488</td>\n",
       "    </tr>\n",
       "    <tr>\n",
       "      <th>9</th>\n",
       "      <td>P01_10007_43705_10821_700_100</td>\n",
       "      <td>0.001500</td>\n",
       "    </tr>\n",
       "    <tr>\n",
       "      <th>10</th>\n",
       "      <td>P02_10002_46825_10035_600_1300</td>\n",
       "      <td>0.002744</td>\n",
       "    </tr>\n",
       "    <tr>\n",
       "      <th>11</th>\n",
       "      <td>P03_10006_53346_12619_2250_50</td>\n",
       "      <td>0.002881</td>\n",
       "    </tr>\n",
       "    <tr>\n",
       "      <th>12</th>\n",
       "      <td>P03_10006_53346_12619_250_450</td>\n",
       "      <td>0.002581</td>\n",
       "    </tr>\n",
       "    <tr>\n",
       "      <th>13</th>\n",
       "      <td>P03_10009_53725_9272_570_10</td>\n",
       "      <td>0.000769</td>\n",
       "    </tr>\n",
       "    <tr>\n",
       "      <th>14</th>\n",
       "      <td>P03_10011_56477_11085_270_0</td>\n",
       "      <td>0.000625</td>\n",
       "    </tr>\n",
       "    <tr>\n",
       "      <th>15</th>\n",
       "      <td>P04_1002_49602_16360_75_475</td>\n",
       "      <td>0.003306</td>\n",
       "    </tr>\n",
       "    <tr>\n",
       "      <th>16</th>\n",
       "      <td>P05_10002_50311_5870_1575_325</td>\n",
       "      <td>0.001800</td>\n",
       "    </tr>\n",
       "    <tr>\n",
       "      <th>17</th>\n",
       "      <td>P05_10004_52117_15632_302_820</td>\n",
       "      <td>0.001106</td>\n",
       "    </tr>\n",
       "    <tr>\n",
       "      <th>18</th>\n",
       "      <td>P05_10005_59531_13160_875_1075</td>\n",
       "      <td>0.003250</td>\n",
       "    </tr>\n",
       "    <tr>\n",
       "      <th>19</th>\n",
       "      <td>P05_10006_45458_10695_1270_100</td>\n",
       "      <td>0.003075</td>\n",
       "    </tr>\n",
       "    <tr>\n",
       "      <th>20</th>\n",
       "      <td>P05_10006_45458_10695_275_1400</td>\n",
       "      <td>0.003975</td>\n",
       "    </tr>\n",
       "    <tr>\n",
       "      <th>21</th>\n",
       "      <td>P05_10006_45458_10695_380_377</td>\n",
       "      <td>0.002006</td>\n",
       "    </tr>\n",
       "    <tr>\n",
       "      <th>22</th>\n",
       "      <td>P05_10007_54516_8107_1428_1138</td>\n",
       "      <td>0.001969</td>\n",
       "    </tr>\n",
       "    <tr>\n",
       "      <th>23</th>\n",
       "      <td>P05_10007_54516_8107_1932_407</td>\n",
       "      <td>0.001269</td>\n",
       "    </tr>\n",
       "    <tr>\n",
       "      <th>24</th>\n",
       "      <td>P05_10008_53049_13410_2000_400</td>\n",
       "      <td>0.003994</td>\n",
       "    </tr>\n",
       "    <tr>\n",
       "      <th>25</th>\n",
       "      <td>P05_10008_53049_13410_200_300</td>\n",
       "      <td>0.004119</td>\n",
       "    </tr>\n",
       "    <tr>\n",
       "      <th>26</th>\n",
       "      <td>P05_9997_47655_5439_1635_607</td>\n",
       "      <td>0.002037</td>\n",
       "    </tr>\n",
       "    <tr>\n",
       "      <th>27</th>\n",
       "      <td>P05_9997_47655_5439_35_1034</td>\n",
       "      <td>0.002225</td>\n",
       "    </tr>\n",
       "    <tr>\n",
       "      <th>28</th>\n",
       "      <td>P05_9998_49401_6049_1670_670</td>\n",
       "      <td>0.002756</td>\n",
       "    </tr>\n",
       "    <tr>\n",
       "      <th>29</th>\n",
       "      <td>P05_9998_49401_6049_480_770</td>\n",
       "      <td>0.001988</td>\n",
       "    </tr>\n",
       "    <tr>\n",
       "      <th>30</th>\n",
       "      <td>P05_9999_44325_9681_1640_650</td>\n",
       "      <td>0.001300</td>\n",
       "    </tr>\n",
       "    <tr>\n",
       "      <th>31</th>\n",
       "      <td>P07_10002_53508_14973_400_605</td>\n",
       "      <td>0.003069</td>\n",
       "    </tr>\n",
       "    <tr>\n",
       "      <th>32</th>\n",
       "      <td>P07_10003_49716_12785_1900_1000</td>\n",
       "      <td>0.003544</td>\n",
       "    </tr>\n",
       "    <tr>\n",
       "      <th>33</th>\n",
       "      <td>P07_10004_53024_13505_1250_1500</td>\n",
       "      <td>0.003387</td>\n",
       "    </tr>\n",
       "    <tr>\n",
       "      <th>34</th>\n",
       "      <td>P07_10004_53024_13505_250_1100</td>\n",
       "      <td>0.003025</td>\n",
       "    </tr>\n",
       "    <tr>\n",
       "      <th>35</th>\n",
       "      <td>P07_10004_53024_13505_250_600</td>\n",
       "      <td>0.004137</td>\n",
       "    </tr>\n",
       "    <tr>\n",
       "      <th>36</th>\n",
       "      <td>P07_9999_47658_14897_1300_500</td>\n",
       "      <td>0.003587</td>\n",
       "    </tr>\n",
       "    <tr>\n",
       "      <th>37</th>\n",
       "      <td>P07_9999_47658_14897_1700_500</td>\n",
       "      <td>0.003187</td>\n",
       "    </tr>\n",
       "    <tr>\n",
       "      <th>38</th>\n",
       "      <td>P11_10001_52346_6751_1050_300</td>\n",
       "      <td>0.003012</td>\n",
       "    </tr>\n",
       "    <tr>\n",
       "      <th>39</th>\n",
       "      <td>P11_10001_52346_6751_1675_700</td>\n",
       "      <td>0.003225</td>\n",
       "    </tr>\n",
       "    <tr>\n",
       "      <th>40</th>\n",
       "      <td>P11_10001_52346_6751_800_225</td>\n",
       "      <td>0.003162</td>\n",
       "    </tr>\n",
       "    <tr>\n",
       "      <th>41</th>\n",
       "      <td>P11_10003_58107_9239_0_1200</td>\n",
       "      <td>0.001294</td>\n",
       "    </tr>\n",
       "    <tr>\n",
       "      <th>42</th>\n",
       "      <td>P12_10001_43332_8319_1250_250</td>\n",
       "      <td>0.003975</td>\n",
       "    </tr>\n",
       "    <tr>\n",
       "      <th>43</th>\n",
       "      <td>P12_10001_43332_8319_1600_1600</td>\n",
       "      <td>0.002544</td>\n",
       "    </tr>\n",
       "    <tr>\n",
       "      <th>44</th>\n",
       "      <td>sixplexTonsil_10122021_1416_1053</td>\n",
       "      <td>0.001999</td>\n",
       "    </tr>\n",
       "    <tr>\n",
       "      <th>45</th>\n",
       "      <td>sixplexTonsil_10122021_1589_23</td>\n",
       "      <td>0.006073</td>\n",
       "    </tr>\n",
       "    <tr>\n",
       "      <th>46</th>\n",
       "      <td>sixplexTonsil_10122021_16_14</td>\n",
       "      <td>0.004242</td>\n",
       "    </tr>\n",
       "    <tr>\n",
       "      <th>47</th>\n",
       "      <td>sixplexTonsil_10122021_351_1140</td>\n",
       "      <td>0.002594</td>\n",
       "    </tr>\n",
       "    <tr>\n",
       "      <th>48</th>\n",
       "      <td>TME11_12154_44141_1378_0</td>\n",
       "      <td>0.002121</td>\n",
       "    </tr>\n",
       "    <tr>\n",
       "      <th>49</th>\n",
       "      <td>TME11_12154_44141_231_1092</td>\n",
       "      <td>0.000412</td>\n",
       "    </tr>\n",
       "    <tr>\n",
       "      <th>50</th>\n",
       "      <td>TME11_12154_44141_691_434</td>\n",
       "      <td>0.004669</td>\n",
       "    </tr>\n",
       "    <tr>\n",
       "      <th>51</th>\n",
       "      <td>TME11_12154_44141_939_704</td>\n",
       "      <td>0.002777</td>\n",
       "    </tr>\n",
       "    <tr>\n",
       "      <th>52</th>\n",
       "      <td>Tonsil_7color_Scan2_17096_47011_1044_1140</td>\n",
       "      <td>0.008575</td>\n",
       "    </tr>\n",
       "    <tr>\n",
       "      <th>53</th>\n",
       "      <td>Tonsil_7color_Scan2_17096_47011_1304_232</td>\n",
       "      <td>0.006577</td>\n",
       "    </tr>\n",
       "    <tr>\n",
       "      <th>54</th>\n",
       "      <td>Tonsil_7color_Scan2_17096_47011_57_103</td>\n",
       "      <td>0.004944</td>\n",
       "    </tr>\n",
       "    <tr>\n",
       "      <th>55</th>\n",
       "      <td>Tonsil_7color_Scan2_17096_47011_627_914</td>\n",
       "      <td>0.004181</td>\n",
       "    </tr>\n",
       "    <tr>\n",
       "      <th>56</th>\n",
       "      <td>VISTA4_47265_15281_1670_668</td>\n",
       "      <td>0.002090</td>\n",
       "    </tr>\n",
       "    <tr>\n",
       "      <th>57</th>\n",
       "      <td>VISTA4_47265_15281_1830_2272</td>\n",
       "      <td>0.002625</td>\n",
       "    </tr>\n",
       "    <tr>\n",
       "      <th>58</th>\n",
       "      <td>VISTA4_47265_15281_2323_239</td>\n",
       "      <td>0.004211</td>\n",
       "    </tr>\n",
       "    <tr>\n",
       "      <th>59</th>\n",
       "      <td>VISTA4_47265_15281_2409_2464</td>\n",
       "      <td>0.005417</td>\n",
       "    </tr>\n",
       "  </tbody>\n",
       "</table>\n",
       "</div>"
      ],
      "text/plain": [
       "                                          ROI  num_nuclei\n",
       "0                    Bph2_45174_14597_160_246    0.000626\n",
       "1                  Bph2_45174_14597_2032_2032    0.003021\n",
       "2                   Bph2_45174_14597_2492_682    0.002792\n",
       "3                  Bph2_45174_14597_3625_2420    0.001770\n",
       "4               P01_10001_54032_15278_550_400    0.002587\n",
       "5                P01_10002_41478_16613_300_50    0.002581\n",
       "6               P01_10003_59622_10626_650_100    0.002594\n",
       "7               P01_10004_45412_13528_300_300    0.005500\n",
       "8                P01_10005_54191_8632_600_100    0.001488\n",
       "9               P01_10007_43705_10821_700_100    0.001500\n",
       "10             P02_10002_46825_10035_600_1300    0.002744\n",
       "11              P03_10006_53346_12619_2250_50    0.002881\n",
       "12              P03_10006_53346_12619_250_450    0.002581\n",
       "13                P03_10009_53725_9272_570_10    0.000769\n",
       "14                P03_10011_56477_11085_270_0    0.000625\n",
       "15                P04_1002_49602_16360_75_475    0.003306\n",
       "16              P05_10002_50311_5870_1575_325    0.001800\n",
       "17              P05_10004_52117_15632_302_820    0.001106\n",
       "18             P05_10005_59531_13160_875_1075    0.003250\n",
       "19             P05_10006_45458_10695_1270_100    0.003075\n",
       "20             P05_10006_45458_10695_275_1400    0.003975\n",
       "21              P05_10006_45458_10695_380_377    0.002006\n",
       "22             P05_10007_54516_8107_1428_1138    0.001969\n",
       "23              P05_10007_54516_8107_1932_407    0.001269\n",
       "24             P05_10008_53049_13410_2000_400    0.003994\n",
       "25              P05_10008_53049_13410_200_300    0.004119\n",
       "26               P05_9997_47655_5439_1635_607    0.002037\n",
       "27                P05_9997_47655_5439_35_1034    0.002225\n",
       "28               P05_9998_49401_6049_1670_670    0.002756\n",
       "29                P05_9998_49401_6049_480_770    0.001988\n",
       "30               P05_9999_44325_9681_1640_650    0.001300\n",
       "31              P07_10002_53508_14973_400_605    0.003069\n",
       "32            P07_10003_49716_12785_1900_1000    0.003544\n",
       "33            P07_10004_53024_13505_1250_1500    0.003387\n",
       "34             P07_10004_53024_13505_250_1100    0.003025\n",
       "35              P07_10004_53024_13505_250_600    0.004137\n",
       "36              P07_9999_47658_14897_1300_500    0.003587\n",
       "37              P07_9999_47658_14897_1700_500    0.003187\n",
       "38              P11_10001_52346_6751_1050_300    0.003012\n",
       "39              P11_10001_52346_6751_1675_700    0.003225\n",
       "40               P11_10001_52346_6751_800_225    0.003162\n",
       "41                P11_10003_58107_9239_0_1200    0.001294\n",
       "42              P12_10001_43332_8319_1250_250    0.003975\n",
       "43             P12_10001_43332_8319_1600_1600    0.002544\n",
       "44           sixplexTonsil_10122021_1416_1053    0.001999\n",
       "45             sixplexTonsil_10122021_1589_23    0.006073\n",
       "46               sixplexTonsil_10122021_16_14    0.004242\n",
       "47            sixplexTonsil_10122021_351_1140    0.002594\n",
       "48                   TME11_12154_44141_1378_0    0.002121\n",
       "49                 TME11_12154_44141_231_1092    0.000412\n",
       "50                  TME11_12154_44141_691_434    0.004669\n",
       "51                  TME11_12154_44141_939_704    0.002777\n",
       "52  Tonsil_7color_Scan2_17096_47011_1044_1140    0.008575\n",
       "53   Tonsil_7color_Scan2_17096_47011_1304_232    0.006577\n",
       "54     Tonsil_7color_Scan2_17096_47011_57_103    0.004944\n",
       "55    Tonsil_7color_Scan2_17096_47011_627_914    0.004181\n",
       "56                VISTA4_47265_15281_1670_668    0.002090\n",
       "57               VISTA4_47265_15281_1830_2272    0.002625\n",
       "58                VISTA4_47265_15281_2323_239    0.004211\n",
       "59               VISTA4_47265_15281_2409_2464    0.005417"
      ]
     },
     "execution_count": 5,
     "metadata": {},
     "output_type": "execute_result"
    }
   ],
   "source": [
    "num_nuclei_df"
   ]
  },
  {
   "cell_type": "code",
   "execution_count": 6,
   "metadata": {},
   "outputs": [
    {
     "data": {
      "text/plain": [
       "0.17889130859375"
      ]
     },
     "execution_count": 6,
     "metadata": {},
     "output_type": "execute_result"
    }
   ],
   "source": [
    "num_nuclei_df['num_nuclei'].sum()"
   ]
  },
  {
   "cell_type": "code",
   "execution_count": 7,
   "metadata": {},
   "outputs": [
    {
     "data": {
      "text/plain": [
       "<Axes: xlabel='num_nuclei', ylabel='Count'>"
      ]
     },
     "execution_count": 7,
     "metadata": {},
     "output_type": "execute_result"
    },
    {
     "data": {
      "image/png": "[encoded data removed]",
      "text/plain": [
       "<Figure size 640x480 with 1 Axes>"
      ]
     },
     "metadata": {},
     "output_type": "display_data"
    }
   ],
   "source": [
    "sns.histplot(num_nuclei_df['num_nuclei'], kde=True)"
   ]
  },
  {
   "cell_type": "markdown",
   "metadata": {},
   "source": [
    "Separating by median"
   ]
  },
  {
   "cell_type": "code",
   "execution_count": 8,
   "metadata": {},
   "outputs": [
    {
     "data": {
      "text/plain": [
       "0.00278472900390625"
      ]
     },
     "execution_count": 8,
     "metadata": {},
     "output_type": "execute_result"
    }
   ],
   "source": [
    "median = num_nuclei_df['num_nuclei'].median()\n",
    "median"
   ]
  },
  {
   "cell_type": "code",
   "execution_count": 9,
   "metadata": {},
   "outputs": [],
   "source": [
    "less_median_files = num_nuclei_df['ROI'][num_nuclei_df['num_nuclei']<median]"
   ]
  },
  {
   "cell_type": "code",
   "execution_count": 10,
   "metadata": {},
   "outputs": [],
   "source": [
    "more_median_files = num_nuclei_df['ROI'][num_nuclei_df['num_nuclei']>=median]"
   ]
  },
  {
   "cell_type": "code",
   "execution_count": 11,
   "metadata": {},
   "outputs": [
    {
     "data": {
      "text/plain": [
       "30"
      ]
     },
     "execution_count": 11,
     "metadata": {},
     "output_type": "execute_result"
    }
   ],
   "source": [
    "len(less_median_files)"
   ]
  },
  {
   "cell_type": "code",
   "execution_count": 12,
   "metadata": {},
   "outputs": [
    {
     "data": {
      "text/plain": [
       "60"
      ]
     },
     "execution_count": 12,
     "metadata": {},
     "output_type": "execute_result"
    }
   ],
   "source": [
    "len(less_median_files) + len(more_median_files)"
   ]
  },
  {
   "cell_type": "code",
   "execution_count": 13,
   "metadata": {},
   "outputs": [],
   "source": [
    "lessmedian_dir_path = r\"D:\\nuclear_seg\\root_lessmedian\\Fields\"\n",
    "moremedian_dir_path = r\"D:\\nuclear_seg\\root_moremedian\\Fields\""
   ]
  },
  {
   "cell_type": "code",
   "execution_count": 14,
   "metadata": {},
   "outputs": [],
   "source": [
    "for file in less_median_files:\n",
    "    shutil.copytree(os.path.join(in_dir_path, file), os.path.join(lessmedian_dir_path, file))"
   ]
  },
  {
   "cell_type": "code",
   "execution_count": 15,
   "metadata": {},
   "outputs": [],
   "source": [
    "for file in more_median_files:\n",
    "    shutil.copytree(os.path.join(in_dir_path, file), os.path.join(moremedian_dir_path, file))"
   ]
  },
  {
   "cell_type": "markdown",
   "metadata": {},
   "source": [
    "Separating by upper quartile"
   ]
  },
  {
   "cell_type": "code",
   "execution_count": 8,
   "metadata": {},
   "outputs": [
    {
     "data": {
      "text/plain": [
       "0.003684375"
      ]
     },
     "execution_count": 8,
     "metadata": {},
     "output_type": "execute_result"
    }
   ],
   "source": [
    "median = num_nuclei_df['num_nuclei'].quantile(0.75)\n",
    "median"
   ]
  },
  {
   "cell_type": "code",
   "execution_count": 9,
   "metadata": {},
   "outputs": [],
   "source": [
    "less_median_files = num_nuclei_df['ROI'][num_nuclei_df['num_nuclei']<median]"
   ]
  },
  {
   "cell_type": "code",
   "execution_count": 10,
   "metadata": {},
   "outputs": [],
   "source": [
    "more_median_files = num_nuclei_df['ROI'][num_nuclei_df['num_nuclei']>=median]"
   ]
  },
  {
   "cell_type": "code",
   "execution_count": 11,
   "metadata": {},
   "outputs": [
    {
     "data": {
      "text/plain": [
       "45"
      ]
     },
     "execution_count": 11,
     "metadata": {},
     "output_type": "execute_result"
    }
   ],
   "source": [
    "len(less_median_files)"
   ]
  },
  {
   "cell_type": "code",
   "execution_count": 12,
   "metadata": {},
   "outputs": [
    {
     "data": {
      "text/plain": [
       "60"
      ]
     },
     "execution_count": 12,
     "metadata": {},
     "output_type": "execute_result"
    }
   ],
   "source": [
    "len(less_median_files) + len(more_median_files)"
   ]
  },
  {
   "cell_type": "code",
   "execution_count": 13,
   "metadata": {},
   "outputs": [],
   "source": [
    "lessmedian_dir_path = r\"D:\\nuclear_seg\\root_lessUQ\\Fields\"\n",
    "moremedian_dir_path = r\"D:\\nuclear_seg\\root_moreUQ\\Fields\""
   ]
  },
  {
   "cell_type": "code",
   "execution_count": 14,
   "metadata": {},
   "outputs": [],
   "source": [
    "for file in less_median_files:\n",
    "    shutil.copytree(os.path.join(in_dir_path, file), os.path.join(lessmedian_dir_path, file))"
   ]
  },
  {
   "cell_type": "code",
   "execution_count": 15,
   "metadata": {},
   "outputs": [],
   "source": [
    "for file in more_median_files:\n",
    "    shutil.copytree(os.path.join(in_dir_path, file), os.path.join(moremedian_dir_path, file))"
   ]
  },
  {
   "cell_type": "markdown",
   "metadata": {},
   "source": [
    "Separating by lower quartile"
   ]
  },
  {
   "cell_type": "code",
   "execution_count": 8,
   "metadata": {},
   "outputs": [
    {
     "data": {
      "text/plain": [
       "0.002004412841796875"
      ]
     },
     "execution_count": 8,
     "metadata": {},
     "output_type": "execute_result"
    }
   ],
   "source": [
    "median = num_nuclei_df['num_nuclei'].quantile(0.25)\n",
    "median"
   ]
  },
  {
   "cell_type": "code",
   "execution_count": 9,
   "metadata": {},
   "outputs": [],
   "source": [
    "less_median_files = num_nuclei_df['ROI'][num_nuclei_df['num_nuclei']<median]"
   ]
  },
  {
   "cell_type": "code",
   "execution_count": 10,
   "metadata": {},
   "outputs": [],
   "source": [
    "more_median_files = num_nuclei_df['ROI'][num_nuclei_df['num_nuclei']>=median]"
   ]
  },
  {
   "cell_type": "code",
   "execution_count": 11,
   "metadata": {},
   "outputs": [
    {
     "data": {
      "text/plain": [
       "15"
      ]
     },
     "execution_count": 11,
     "metadata": {},
     "output_type": "execute_result"
    }
   ],
   "source": [
    "len(less_median_files)"
   ]
  },
  {
   "cell_type": "code",
   "execution_count": 12,
   "metadata": {},
   "outputs": [
    {
     "data": {
      "text/plain": [
       "60"
      ]
     },
     "execution_count": 12,
     "metadata": {},
     "output_type": "execute_result"
    }
   ],
   "source": [
    "len(less_median_files) + len(more_median_files)"
   ]
  },
  {
   "cell_type": "code",
   "execution_count": 13,
   "metadata": {},
   "outputs": [],
   "source": [
    "lessmedian_dir_path = r\"D:\\nuclear_seg\\root_lessLQ\\Fields\"\n",
    "moremedian_dir_path = r\"D:\\nuclear_seg\\root_moreLQ\\Fields\""
   ]
  },
  {
   "cell_type": "code",
   "execution_count": 14,
   "metadata": {},
   "outputs": [],
   "source": [
    "for file in less_median_files:\n",
    "    shutil.copytree(os.path.join(in_dir_path, file), os.path.join(lessmedian_dir_path, file))"
   ]
  },
  {
   "cell_type": "code",
   "execution_count": 15,
   "metadata": {},
   "outputs": [],
   "source": [
    "for file in more_median_files:\n",
    "    shutil.copytree(os.path.join(in_dir_path, file), os.path.join(moremedian_dir_path, file))"
   ]
  },
  {
   "cell_type": "code",
   "execution_count": null,
   "metadata": {},
   "outputs": [],
   "source": []
  }
 ],
 "metadata": {
  "kernelspec": {
   "display_name": "nuclear_seg",
   "language": "python",
   "name": "python3"
  },
  "language_info": {
   "codemirror_mode": {
    "name": "ipython",
    "version": 3
   },
   "file_extension": ".py",
   "mimetype": "text/x-python",
   "name": "python",
   "nbconvert_exporter": "python",
   "pygments_lexer": "ipython3",
   "version": "3.10.12"
  }
 },
 "nbformat": 4,
 "nbformat_minor": 2
}
