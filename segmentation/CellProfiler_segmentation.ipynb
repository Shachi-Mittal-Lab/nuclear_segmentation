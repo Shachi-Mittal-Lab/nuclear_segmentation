{
 "cells": [
  {
   "cell_type": "markdown",
   "id": "59d25340-60d2-456d-89b4-ac9617770978",
   "metadata": {},
   "source": [
    "## Nuclear Segmentation in CellProfiler GUI"
   ]
  },
  {
   "cell_type": "markdown",
   "id": "ce896e5b-eb56-4993-9e4c-88da0a9df50d",
   "metadata": {},
   "source": [
    "* Load grayscale DAPI channel of the field\n",
    "* “Crop” module to create smaller regions for the purpose of optimizing nuclei segmentation. A mix of sparse and densely populated regions of nucleishould be  chose to optimize for a range of nuclear densitiesn. Thresholding and splitting parameters that achieved great segmentation in sparse regions often faiedd to segment well in dense regions, and vice versa. It is considered an art to balance these parameters to segment desirably in both sparse and dense regions. As a consequence, the amount of user intervention in this process makes CellProfiler a platform that requires copious amounts of users’ time, effort and experience.\n",
    "* Nuclei segmentation these cropped regions using the “IdentifyPrimaryObjects” module\n",
    "* Min typical diametas set to filter out smaller, noisy objects & max diametas set to be larger than the largest nucleus\n",
    "* Two-class global Otsu thresholding\n",
    "* Threshold correction factor is adjusted so that nuclei and background are assigned as accurately as possible\n",
    "* “Intensity” was the method used to distinguish and draw dividing lines between clumped objects. “Shape” was also tried instead, which worked really well for sparse regions but failed completely in the dense regions because of a lack of definite indentations separating overlapping nuclei. The “Intensity” setting sometimes oversegmented sparse, obviously whole nuclei because of a lack of intensity peak in the Thus, where required, splitting of nuclei were manually optimized by changing the “size of smoothing filter for declumping” and “minimum allowed distance between local maxima” settings. \n",
    "* Once one set of parameters are fixed that work desirably across cropped regions, these “IdentifyPrimaryObjects” settings can be applied to the whole DAPI field.\n",
    "* “ExpandOrShrinkObjects” module to add partial dividing lines between objects.\n",
    "* “ConvertObjectsToImage” module to create a binary mask (black & white image) of the segmented nuclei\n",
    "* “SaveImages” module to save the binary nuclei mask to local compter\n",
    "\r\n"
   ]
  },
  {
   "cell_type": "code",
   "execution_count": null,
   "id": "74e734d7-3b9f-4827-89c8-b4778ada27df",
   "metadata": {},
   "outputs": [],
   "source": []
  }
 ],
 "metadata": {
  "kernelspec": {
   "display_name": "Python 3 (ipykernel)",
   "language": "python",
   "name": "python3"
  },
  "language_info": {
   "codemirror_mode": {
    "name": "ipython",
    "version": 3
   },
   "file_extension": ".py",
   "mimetype": "text/x-python",
   "name": "python",
   "nbconvert_exporter": "python",
   "pygments_lexer": "ipython3",
   "version": "3.10.12"
  }
 },
 "nbformat": 4,
 "nbformat_minor": 5
}
