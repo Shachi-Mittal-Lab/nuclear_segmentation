{
 "cells": [
  {
   "cell_type": "code",
   "execution_count": 4,
   "id": "83389880",
   "metadata": {},
   "outputs": [],
   "source": [
    "import numpy as np\n",
    "import skimage.io as io\n",
    "import skimage.segmentation\n",
    "import os"
   ]
  },
  {
   "cell_type": "markdown",
   "id": "af5e3c92",
   "metadata": {},
   "source": [
    "Prior to running this notebook, perform adaptive cell segmentation in inForm using DAPI as a nuclear marker. Export nuclear label arrays in inForm as tiff files and move them to a folder (in_dir). This notebook is used for post-processing of nuclear label arrays from inForm to produce binary masks that can be used for evaluation and comparison with inForm with other nuclear segmentation platforms."
   ]
  },
  {
   "cell_type": "code",
   "execution_count": 5,
   "id": "a06a5586",
   "metadata": {},
   "outputs": [],
   "source": [
    "def inForm_postprocessor(in_dir, save_dir):\n",
    "    '''\n",
    "    Converts nuclear segmentation label masks from inForm and produces binary masks for evaluation\n",
    "\n",
    "    Parameters\n",
    "    in_dir: str\n",
    "        the path to the directory containing the label masks of each field from inForm\n",
    "    save_dir: str\n",
    "        the path to the directory where the binary masks will be saved. Each tiff image in the input directory will\n",
    "        have a corresponding binary mask in the save directory\n",
    "    '''\n",
    "\n",
    "    # iterating over all files in the input directory\n",
    "    for file in os.listdir(in_dir):\n",
    "        # only processes tiff images\n",
    "        if file[-5:]=='.tiff' or file[-4:]=='.tif':\n",
    "            # reads the label mask of each field as an array\n",
    "            label_mask = io.imread(os.path.join(in_dir, file))\n",
    "            # Post-processing of prediction label arrays into binary masks for evaluation. The overall effect of\n",
    "            # step is that nuclei that are sparse are unchanged but nuclei that are touching are eroded by one\n",
    "            # pixel where they touch other nuclei. This is necessary for binary connected component analysis during\n",
    "            # F1-score calculation for segmentation evaluation.\n",
    "            # Finding the pixels that are touching between any two nuclei\n",
    "            boundary_bool = skimage.segmentation.find_boundaries(label_mask, connectivity=label_mask.ndim,\n",
    "                                                                 mode='outer', background=0)\n",
    "            # Converting these pixels to the background value in the label array\n",
    "            label_mask[boundary_bool] = 0\n",
    "            # Converting the label array into a binary mask of foreground (255) and background (0)\n",
    "            nuclei_mask_final = np.zeros((label_mask.shape[0], label_mask.shape[1]))\n",
    "            nuclei_mask_final[label_mask != 0] = 255\n",
    "            nuclei_mask_final = np.uint8(nuclei_mask_final)\n",
    "            # saving the binary mask in the save directory\n",
    "            io.imsave(os.path.join(save_dir, file[:file.find('.')] + '.tiff'), nuclei_mask_final)\n",
    "        else:\n",
    "            pass\n",
    "        \n",
    "    return None"
   ]
  },
  {
   "cell_type": "code",
   "execution_count": 6,
   "id": "882e677b",
   "metadata": {},
   "outputs": [],
   "source": [
    "# Replace the strings for in_dir and save_dir to paths on the local machine\n",
    "in_dir = '/Users/abishek/Desktop/MRL/Platforms/Code/nuclear_seg/inForm_label_masks'\n",
    "save_dir = '/Users/abishek/Desktop/MRL/Platforms/Code/nuclear_seg/inForm_binary_masks'\n",
    "# To create binary masks from inForm label masks\n",
    "inForm_postprocessor(in_dir, save_dir)"
   ]
  },
  {
   "cell_type": "code",
   "execution_count": null,
   "id": "6e65a635",
   "metadata": {},
   "outputs": [],
   "source": []
  }
 ],
 "metadata": {
  "kernelspec": {
   "display_name": "Python 3 (ipykernel)",
   "language": "python",
   "name": "python3"
  },
  "language_info": {
   "codemirror_mode": {
    "name": "ipython",
    "version": 3
   },
   "file_extension": ".py",
   "mimetype": "text/x-python",
   "name": "python",
   "nbconvert_exporter": "python",
   "pygments_lexer": "ipython3",
   "version": "3.11.4"
  }
 },
 "nbformat": 4,
 "nbformat_minor": 5
}
