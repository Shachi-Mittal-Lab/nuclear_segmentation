{
 "cells": [
  {
   "cell_type": "code",
   "execution_count": 1,
   "id": "83389880",
   "metadata": {},
   "outputs": [],
   "source": [
    "import numpy as np\n",
    "import skimage.io as io\n",
    "import skimage.segmentation\n",
    "import os"
   ]
  },
  {
   "cell_type": "markdown",
   "id": "af5e3c92",
   "metadata": {},
   "source": [
    "Prior to running this notebook, perform adaptive cell segmentation in inForm using DAPI as a nuclear marker. Export nuclear label arrays in inForm as tiff files and move them to a folder (in_dir). This notebook is used for post-processing of nuclear label arrays from inForm to produce binary masks that can be used for evaluation and comparison with inForm with other nuclear segmentation platforms."
   ]
  },
  {
   "cell_type": "markdown",
   "id": "fcf79298-7b73-4e1b-8fb4-a59e442d47a0",
   "metadata": {},
   "source": [
    "## Post Processing \n",
    "Post-processing of predicted label masks into binary masks for evaluation. The overall effect of this step is to separate touching nuclei by adding a 2-pixel gap (one-pixel erosion on each nucleus). Next, binary masks (both segmented and ground truth data) can be used to compute the F1-scores by utilizing connected component analysis. "
   ]
  },
  {
   "cell_type": "code",
   "execution_count": 2,
   "id": "a06a5586",
   "metadata": {},
   "outputs": [],
   "source": [
    "def postprocess(save_dir_seg, save_dir_bin):\n",
    "    '''\n",
    "    Produces binary masks for evaluation from the labelled mask output from the inForm\n",
    "\n",
    "    Parameters\n",
    "    save_dir_seg: str\n",
    "        the path to the directory containing the label masks output by inForm. All images should be in .tiff format\n",
    "    save_dir_bin: str\n",
    "        the path to the directory where the binary images will be saved as masks. Each tiff image in the input directory will\n",
    "        have a corresponding mask in the directory provided by the user\n",
    "    '''\n",
    "\n",
    "    # iterating over all files in the input directory\n",
    "    for file in os.listdir(save_dir_seg):\n",
    "        # only processes tiff images\n",
    "        if file[-5:]=='.tiff' or file[-4:]=='.tif':\n",
    "            # Finding the pixels that are touching between any two nuclei\n",
    "            label_mask = io.imread(os.path.join(save_dir_seg, file))\n",
    "            boundary_bool = skimage.segmentation.find_boundaries(label_mask, connectivity=label_mask.ndim,\n",
    "                                                                 mode='outer', background=0)\n",
    "            # Converting these pixels to the background value in the label array\n",
    "            label_mask[boundary_bool] = 0\n",
    "            # Converting the label array into a binary mask of foreground (255) and background (0)\n",
    "            nuclei_mask_final = np.zeros((label_mask.shape[0], label_mask.shape[1]))\n",
    "            nuclei_mask_final[label_mask != 0] = 255\n",
    "            nuclei_mask_final = np.uint8(nuclei_mask_final)\n",
    "            \n",
    "            # saving the binary mask in the save directory\n",
    "            io.imsave(os.path.join(save_dir_bin, file[:file.find('.')] + '.tiff'), nuclei_mask_final)\n",
    "        else:\n",
    "            pass\n",
    "        \n",
    "    return None"
   ]
  },
  {
   "cell_type": "markdown",
   "id": "a8c4bff2-607c-4beb-abe7-84e8d9bf7d88",
   "metadata": {},
   "source": [
    "## Running the postprocessing pipeline"
   ]
  },
  {
   "cell_type": "code",
   "execution_count": 3,
   "id": "882e677b",
   "metadata": {},
   "outputs": [],
   "source": [
    "# Replace the strings for save_dir_seg and save_dir_bin to paths on the local machine\n",
    "save_dir_seg = r'C:\\Users\\mrl\\Desktop\\nuclear_seg_github\\nuclear_segmentation\\imgs\\inForm_label_masks'\n",
    "save_dir_bin = r'C:\\Users\\mrl\\Desktop\\nuclear_seg_github\\nuclear_segmentation\\imgs\\inForm_binary_masks'\n",
    "# To create binary masks for inForm\n",
    "postprocess(save_dir_seg,save_dir_bin)"
   ]
  },
  {
   "cell_type": "code",
   "execution_count": null,
   "id": "6e65a635",
   "metadata": {},
   "outputs": [],
   "source": []
  }
 ],
 "metadata": {
  "kernelspec": {
   "display_name": "Python 3 (ipykernel)",
   "language": "python",
   "name": "python3"
  },
  "language_info": {
   "codemirror_mode": {
    "name": "ipython",
    "version": 3
   },
   "file_extension": ".py",
   "mimetype": "text/x-python",
   "name": "python",
   "nbconvert_exporter": "python",
   "pygments_lexer": "ipython3",
   "version": "3.10.12"
  }
 },
 "nbformat": 4,
 "nbformat_minor": 5
}
