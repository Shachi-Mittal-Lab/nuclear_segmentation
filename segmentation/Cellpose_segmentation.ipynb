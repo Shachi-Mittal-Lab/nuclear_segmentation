{
 "cells": [
  {
   "cell_type": "code",
   "execution_count": 2,
   "metadata": {
    "executionInfo": {
     "elapsed": 386,
     "status": "ok",
     "timestamp": 1691979728454,
     "user": {
      "displayName": "Georgii Khachaturov",
      "userId": "04230512400272876169"
     },
     "user_tz": 420
    },
    "id": "2CnOpxUmZJth"
   },
   "outputs": [],
   "source": [
    "import matplotlib.pyplot as plt\n",
    "import numpy as np\n",
    "import os\n",
    "import tifffile as tiff\n",
    "import skimage.io as io\n",
    "from skimage import color\n",
    "import skimage.segmentation\n",
    "from cellpose import models\n",
    "import time\n",
    "import pandas as pd"
   ]
  },
  {
   "cell_type": "code",
   "execution_count": 3,
   "metadata": {},
   "outputs": [
    {
     "name": "stdout",
     "output_type": "stream",
     "text": [
      "Num GPUs Available: 0\n"
     ]
    }
   ],
   "source": [
    "import tensorflow as tf\n",
    "print(\"Num GPUs Available:\", len(tf.config.list_physical_devices('GPU')))"
   ]
  },
  {
   "cell_type": "markdown",
   "metadata": {},
   "source": [
    "## DAPI Extraction\n",
    "\n",
    "Use `DAPI_extraction.ipynb` to get only DAPI intensity signal from spectrally unmixed component data. The output directory from there should be `in_dir` in the code below."
   ]
  },
  {
   "cell_type": "markdown",
   "metadata": {},
   "source": [
    "## Nuclear Segmentation "
   ]
  },
  {
   "cell_type": "code",
   "execution_count": 8,
   "metadata": {},
   "outputs": [],
   "source": [
    "def Cellpose_segmentor(in_dir, save_dir_seg, measure_time_fpath=None):\n",
    "    '''\n",
    "    Produces label masks as nuclear segmentation output of Cellpose segementation algorithm\n",
    "\n",
    "    Parameters\n",
    "    in_dir: str\n",
    "        the path to the directory containing the grayscaled DAPI channel images of various fields. All images should be in .tiff format\n",
    "    save_dir_seg: str\n",
    "        the path to the directory where the segmented images will be saved as masks. Each tiff image in the input directory will\n",
    "        have a corresponding mask in the directory provided by the user\n",
    "    '''\n",
    "    \n",
    "    times_df_dict = {'img': [], 'time_seconds': []}\n",
    "    # iterating over all files in the input directory\n",
    "    for file in os.listdir(in_dir):\n",
    "        \n",
    "        # only processes tiff images\n",
    "        if file[-5:]=='.tiff' or file[-4:]=='.tif':\n",
    "            # reads the grayscaled DAPI channel of each field as an array\n",
    "            DAPI_gray = io.imread(os.path.join(in_dir, file), as_gray=True)\n",
    "            # choosing the 'nuclei' in-built model from CellPose\n",
    "            model = models.Cellpose(model_type='nuclei')\n",
    "            # specifying that the images are grayscaled\n",
    "            channels = [0, 0]\n",
    "            start_time = time.time()\n",
    "            # predicting nuclei using the CellPose model\n",
    "            label_mask, flows, styles, diams = model.eval(DAPI_gray, diameter=None, channels=channels)\n",
    "            end_time = time.time()\n",
    "            io.imsave(os.path.join(save_dir_seg, file[:file.find('.')] + '.tiff'), label_mask)\n",
    "            time_taken = end_time - start_time\n",
    "            times_df_dict['img'].append(file)\n",
    "            times_df_dict['time_seconds'].append(time_taken)\n",
    "        else:\n",
    "            pass\n",
    "\n",
    "    if measure_time_fpath is not None:\n",
    "        times_df = pd.DataFrame(times_df_dict)\n",
    "        times_df.to_csv(measure_time_fpath)\n",
    "    else:\n",
    "        pass\n",
    "        \n",
    "    return None"
   ]
  },
  {
   "cell_type": "markdown",
   "metadata": {},
   "source": [
    "## Post Processing \n",
    "Post-processing of predicted label masks into binary masks for evaluation. The overall effect of this step is to separate touching nuclei by adding a 2-pixel gap (one-pixel erosion on each nucleus). Next, binary masks (both segmented and ground truth data) can be used to compute the F1-scores by utilizing connected component analysis. "
   ]
  },
  {
   "cell_type": "code",
   "execution_count": 3,
   "metadata": {},
   "outputs": [],
   "source": [
    "def postprocess(save_dir_seg, save_dir_bin):\n",
    "    '''\n",
    "    Produces binary masks for evaluation from the labelled mask output from the Cellpose algorithm\n",
    "\n",
    "    Parameters\n",
    "    save_dir_seg: str\n",
    "        the path to the directory containing the label masks output by the Cellpose algorithm with the Cellpose_segmentor function. All images should\n",
    "        be in .tiff format\n",
    "    save_dir_bin: str\n",
    "        the path to the directory where the binary images will be saved as masks. Each tiff image in the input directory will\n",
    "        have a corresponding mask in the directory provided by the user\n",
    "    '''\n",
    "\n",
    "    # iterating over all files in the input directory\n",
    "    for file in os.listdir(save_dir_seg):\n",
    "        # only processes tiff images\n",
    "        if file[-5:]=='.tiff' or file[-4:]=='.tif':\n",
    "            # Finding the pixels that are touching between any two nuclei\n",
    "            label_mask = io.imread(os.path.join(save_dir_seg, file))\n",
    "            boundary_bool = skimage.segmentation.find_boundaries(label_mask, connectivity=label_mask.ndim,\n",
    "                                                                 mode='outer', background=0)\n",
    "            # Converting these pixels to the background value in the label array\n",
    "            label_mask[boundary_bool] = 0\n",
    "            # Converting the label array into a binary mask of foreground (255) and background (0)\n",
    "            nuclei_mask_final = np.zeros((label_mask.shape[0], label_mask.shape[1]))\n",
    "            nuclei_mask_final[label_mask != 0] = 255\n",
    "            nuclei_mask_final = np.uint8(nuclei_mask_final)\n",
    "            \n",
    "            # saving the binary mask in the save directory\n",
    "            io.imsave(os.path.join(save_dir_bin, file[:file.find('.')] + '.tiff'), nuclei_mask_final)\n",
    "        else:\n",
    "            pass\n",
    "        \n",
    "    return None"
   ]
  },
  {
   "cell_type": "markdown",
   "metadata": {},
   "source": [
    "## Running the segmentation pipeline"
   ]
  },
  {
   "cell_type": "code",
   "execution_count": 9,
   "metadata": {
    "id": "LpddssGFTHV8"
   },
   "outputs": [
    {
     "name": "stderr",
     "output_type": "stream",
     "text": [
      "C:\\Users\\Waluigi\\AppData\\Roaming\\Python\\Python310\\site-packages\\cellpose\\resnet_torch.py:275: FutureWarning: You are using `torch.load` with `weights_only=False` (the current default value), which uses the default pickle module implicitly. It is possible to construct malicious pickle data which will execute arbitrary code during unpickling (See https://github.com/pytorch/pytorch/blob/main/SECURITY.md#untrusted-models for more details). In a future release, the default value for `weights_only` will be flipped to `True`. This limits the functions that could be executed during unpickling. Arbitrary objects will no longer be allowed to be loaded via this mode unless they are explicitly allowlisted by the user via `torch.serialization.add_safe_globals`. We recommend you start setting `weights_only=True` for any use case where you don't have full control of the loaded file. Please open an issue on GitHub for any issues related to this experimental feature.\n",
      "  state_dict = torch.load(filename, map_location=torch.device(\"cpu\"))\n",
      "C:\\Users\\Waluigi\\AppData\\Local\\Temp\\ipykernel_28240\\926067750.py:29: UserWarning: D:\\nuclear_seg\\Cellpose_preds\\seg\\P01-10001(54032.tiff is a low contrast image\n",
      "  io.imsave(os.path.join(save_dir_seg, file[:file.find('.')] + '.tiff'), label_mask)\n",
      "C:\\Users\\Waluigi\\AppData\\Local\\Temp\\ipykernel_28240\\926067750.py:29: UserWarning: D:\\nuclear_seg\\Cellpose_preds\\seg\\P01-10002(41478.tiff is a low contrast image\n",
      "  io.imsave(os.path.join(save_dir_seg, file[:file.find('.')] + '.tiff'), label_mask)\n",
      "C:\\Users\\Waluigi\\AppData\\Local\\Temp\\ipykernel_28240\\926067750.py:29: UserWarning: D:\\nuclear_seg\\Cellpose_preds\\seg\\P01-10003(59622.tiff is a low contrast image\n",
      "  io.imsave(os.path.join(save_dir_seg, file[:file.find('.')] + '.tiff'), label_mask)\n",
      "C:\\Users\\Waluigi\\AppData\\Local\\Temp\\ipykernel_28240\\926067750.py:29: UserWarning: D:\\nuclear_seg\\Cellpose_preds\\seg\\P01-10004(45412.tiff is a low contrast image\n",
      "  io.imsave(os.path.join(save_dir_seg, file[:file.find('.')] + '.tiff'), label_mask)\n",
      "C:\\Users\\Waluigi\\AppData\\Local\\Temp\\ipykernel_28240\\926067750.py:29: UserWarning: D:\\nuclear_seg\\Cellpose_preds\\seg\\P01-10005(54191.tiff is a low contrast image\n",
      "  io.imsave(os.path.join(save_dir_seg, file[:file.find('.')] + '.tiff'), label_mask)\n",
      "C:\\Users\\Waluigi\\AppData\\Local\\Temp\\ipykernel_28240\\926067750.py:29: UserWarning: D:\\nuclear_seg\\Cellpose_preds\\seg\\P01-10007(43705,10821)Full_Dapi_Png.tiff is a low contrast image\n",
      "  io.imsave(os.path.join(save_dir_seg, file[:file.find('.')] + '.tiff'), label_mask)\n",
      "C:\\Users\\Waluigi\\AppData\\Local\\Temp\\ipykernel_28240\\926067750.py:29: UserWarning: D:\\nuclear_seg\\Cellpose_preds\\seg\\P03-10009(53725.tiff is a low contrast image\n",
      "  io.imsave(os.path.join(save_dir_seg, file[:file.find('.')] + '.tiff'), label_mask)\n",
      "C:\\Users\\Waluigi\\AppData\\Local\\Temp\\ipykernel_28240\\926067750.py:29: UserWarning: D:\\nuclear_seg\\Cellpose_preds\\seg\\P03-10011(56477.tiff is a low contrast image\n",
      "  io.imsave(os.path.join(save_dir_seg, file[:file.find('.')] + '.tiff'), label_mask)\n",
      "C:\\Users\\Waluigi\\AppData\\Local\\Temp\\ipykernel_28240\\926067750.py:29: UserWarning: D:\\nuclear_seg\\Cellpose_preds\\seg\\P04-1002(49602.tiff is a low contrast image\n",
      "  io.imsave(os.path.join(save_dir_seg, file[:file.find('.')] + '.tiff'), label_mask)\n"
     ]
    },
    {
     "ename": "NameError",
     "evalue": "name 'pd' is not defined",
     "output_type": "error",
     "traceback": [
      "\u001b[1;31m---------------------------------------------------------------------------\u001b[0m",
      "\u001b[1;31mNameError\u001b[0m                                 Traceback (most recent call last)",
      "Cell \u001b[1;32mIn[9], line 6\u001b[0m\n\u001b[0;32m      4\u001b[0m save_dir_bin \u001b[38;5;241m=\u001b[39m \u001b[38;5;124mr\u001b[39m\u001b[38;5;124m\"\u001b[39m\u001b[38;5;124mD:\u001b[39m\u001b[38;5;124m\\\u001b[39m\u001b[38;5;124mnuclear_seg\u001b[39m\u001b[38;5;124m\\\u001b[39m\u001b[38;5;124mCellpose_preds\u001b[39m\u001b[38;5;124m\\\u001b[39m\u001b[38;5;124mbin\u001b[39m\u001b[38;5;124m\"\u001b[39m\n\u001b[0;32m      5\u001b[0m \u001b[38;5;66;03m# To create binary masks using Cellpose segmentation algorithm\u001b[39;00m\n\u001b[1;32m----> 6\u001b[0m \u001b[43mCellpose_segmentor\u001b[49m\u001b[43m(\u001b[49m\u001b[43min_dir\u001b[49m\u001b[43m,\u001b[49m\u001b[43m \u001b[49m\u001b[43msave_dir_seg\u001b[49m\u001b[43m,\u001b[49m\u001b[43m \u001b[49m\u001b[43mmeasure_time_fpath\u001b[49m\u001b[38;5;241;43m=\u001b[39;49m\u001b[38;5;124;43mr\u001b[39;49m\u001b[38;5;124;43m\"\u001b[39;49m\u001b[38;5;124;43mD:\u001b[39;49m\u001b[38;5;124;43m\\\u001b[39;49m\u001b[38;5;124;43mnuclear_seg\u001b[39;49m\u001b[38;5;124;43m\\\u001b[39;49m\u001b[38;5;124;43mCellpose_preds\u001b[39;49m\u001b[38;5;124;43m\\\u001b[39;49m\u001b[38;5;124;43mCellpose_times.csv\u001b[39;49m\u001b[38;5;124;43m\"\u001b[39;49m\u001b[43m)\u001b[49m\n\u001b[0;32m      7\u001b[0m postprocess(save_dir_seg,save_dir_bin)\n",
      "Cell \u001b[1;32mIn[8], line 37\u001b[0m, in \u001b[0;36mCellpose_segmentor\u001b[1;34m(in_dir, save_dir_seg, measure_time_fpath)\u001b[0m\n\u001b[0;32m     34\u001b[0m         \u001b[38;5;28;01mpass\u001b[39;00m\n\u001b[0;32m     36\u001b[0m \u001b[38;5;28;01mif\u001b[39;00m measure_time_fpath \u001b[38;5;129;01mis\u001b[39;00m \u001b[38;5;129;01mnot\u001b[39;00m \u001b[38;5;28;01mNone\u001b[39;00m:\n\u001b[1;32m---> 37\u001b[0m     times_df \u001b[38;5;241m=\u001b[39m \u001b[43mpd\u001b[49m\u001b[38;5;241m.\u001b[39mDataFrame(times_df_dict)\n\u001b[0;32m     38\u001b[0m     times_df\u001b[38;5;241m.\u001b[39mto_csv(measure_time_fpath)\n\u001b[0;32m     39\u001b[0m \u001b[38;5;28;01melse\u001b[39;00m:\n",
      "\u001b[1;31mNameError\u001b[0m: name 'pd' is not defined"
     ]
    }
   ],
   "source": [
    "# Replace the strings for in_dir, save_dir_seg and save_dir_bin to paths on the local machine\n",
    "in_dir = r\"D:\\nuclear_seg\\external_DAPI_tiff\"\n",
    "save_dir_seg = r\"D:\\nuclear_seg\\Cellpose_preds\\seg\"\n",
    "save_dir_bin = r\"D:\\nuclear_seg\\Cellpose_preds\\bin\"\n",
    "# To create binary masks using Cellpose segmentation algorithm\n",
    "Cellpose_segmentor(in_dir, save_dir_seg, measure_time_fpath=r\"D:\\nuclear_seg\\Cellpose_preds\\Cellpose_times.csv\")\n",
    "postprocess(save_dir_seg,save_dir_bin)"
   ]
  },
  {
   "cell_type": "code",
   "execution_count": null,
   "metadata": {},
   "outputs": [],
   "source": []
  }
 ],
 "metadata": {
  "colab": {
   "authorship_tag": "ABX9TyP5ubqlYgE557Yx0Klt/lqM",
   "provenance": []
  },
  "kernelspec": {
   "display_name": "nuclear_seg",
   "language": "python",
   "name": "python3"
  },
  "language_info": {
   "codemirror_mode": {
    "name": "ipython",
    "version": 3
   },
   "file_extension": ".py",
   "mimetype": "text/x-python",
   "name": "python",
   "nbconvert_exporter": "python",
   "pygments_lexer": "ipython3",
   "version": "3.10.12"
  }
 },
 "nbformat": 4,
 "nbformat_minor": 4
}
