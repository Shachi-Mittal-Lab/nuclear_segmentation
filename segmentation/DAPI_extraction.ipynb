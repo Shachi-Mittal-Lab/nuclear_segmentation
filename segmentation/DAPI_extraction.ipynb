{
 "cells": [
  {
   "cell_type": "code",
   "execution_count": 11,
   "id": "af7fbbe1-1d35-46f1-b945-ea2c687547b2",
   "metadata": {},
   "outputs": [],
   "source": [
    "import tifffile\n",
    "import numpy as np\n",
    "import os\n",
    "import skimage.io as io\n",
    "import matplotlib.pyplot as plt"
   ]
  },
  {
   "cell_type": "code",
   "execution_count": 15,
   "id": "a180b2b8-fd7b-4c34-a9b1-95c30b68a287",
   "metadata": {},
   "outputs": [],
   "source": [
    "def dapi_grayscale(component_images, dapi_final_folder):\n",
    "    '''\n",
    "    Extracts only DAPI channel (grayscale intensity signal) from spectrally unmixed component data\n",
    "\n",
    "    Parameters\n",
    "    component_images: str\n",
    "        Directory containing spectrally unmixed component data from the different WSI fields/regions. All images should be in .tiff format\n",
    "    dapi_final_folder: str\n",
    "        the path to the directory where the extracted DAPI data will be saved as TIFF files.\n",
    "    '''\n",
    "\n",
    "\n",
    "    # Iterating over all the component data files (the fields/regions sampled from WSIs)\n",
    "    for file in os.listdir(component_images):\n",
    "        # Can only be TIFF files\n",
    "        if file.endswith('.tiff') or file.endswith('.tif'):\n",
    "            # Construct the full path to the file\n",
    "            file_path = os.path.join(component_images, file)\n",
    "            \n",
    "            # Read the multi-channel TIFF file\n",
    "            image = tifffile.imread(file_path)\n",
    "            \n",
    "            # Extract the desired channel which contains the DAPI signal. You can use QuPath to see at what position DAPI is in the order of channels.\n",
    "            selected_channel = image[0]\n",
    "\n",
    "            # Expand dimension to add a third dimension for color channels\n",
    "            selected_channel = np.expand_dims(selected_channel, axis=-1)\n",
    "            selected_channel = np.repeat(selected_channel, repeats=3, axis=-1)\n",
    "\n",
    "            # Define the new file name\n",
    "            new_file_name = os.path.splitext(file)[0] + \".tif\"\n",
    "\n",
    "            # Saving the extracted DAPI signal\n",
    "            tifffile.imwrite(os.path.join(dapi_final_folder, new_file_name), selected_channel)\n",
    "        else:\n",
    "            pass\n",
    "\n",
    "    return None"
   ]
  },
  {
   "cell_type": "code",
   "execution_count": 16,
   "id": "73a43e25-31dc-4b95-8fae-6f77ca1f7cae",
   "metadata": {},
   "outputs": [],
   "source": [
    "# Performing DAPI extractions & saving DAPI signals\n",
    "component_images_directory_path = r\"C:\\Users\\mrl\\Desktop\\Abishek_code\\nuclear_seg_github\\component_data\"\n",
    "save_DAPI_directory_path = r\"C:\\Users\\mrl\\Desktop\\Abishek_code\\nuclear_seg_github\\DAPI\"\n",
    "dapi_grayscale(component_images_directory_path, save_DAPI_directory_path)"
   ]
  },
  {
   "cell_type": "code",
   "execution_count": null,
   "id": "14bbb0d9-7016-4e8c-b9b2-d2e50de4e998",
   "metadata": {},
   "outputs": [],
   "source": []
  }
 ],
 "metadata": {
  "kernelspec": {
   "display_name": "Python 3 (ipykernel)",
   "language": "python",
   "name": "python3"
  },
  "language_info": {
   "codemirror_mode": {
    "name": "ipython",
    "version": 3
   },
   "file_extension": ".py",
   "mimetype": "text/x-python",
   "name": "python",
   "nbconvert_exporter": "python",
   "pygments_lexer": "ipython3",
   "version": "3.10.12"
  }
 },
 "nbformat": 4,
 "nbformat_minor": 5
}
