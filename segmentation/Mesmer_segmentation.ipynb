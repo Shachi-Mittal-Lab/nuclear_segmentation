{
 "cells": [
  {
   "cell_type": "code",
   "execution_count": 1,
   "metadata": {
    "executionInfo": {
     "elapsed": 324,
     "status": "ok",
     "timestamp": 1692043078768,
     "user": {
      "displayName": "Georgii Khachaturov",
      "userId": "04230512400272876169"
     },
     "user_tz": 420
    },
    "id": "W0JB0dMAWa_B"
   },
   "outputs": [],
   "source": [
    "import numpy as np\n",
    "import matplotlib.pyplot as plt\n",
    "import tifffile as tiff\n",
    "import os\n",
    "from deepcell.applications import Mesmer\n",
    "from deepcell.utils.plot_utils import make_outline_overlay\n",
    "from deepcell.utils.tracking_utils import trks_stats, load_trks\n",
    "from deepcell.utils.plot_utils import create_rgb_image\n",
    "import skimage.io as io\n",
    "import skimage.segmentation\n",
    "import time\n",
    "import pandas as pd"
   ]
  },
  {
   "cell_type": "code",
   "execution_count": 2,
   "metadata": {},
   "outputs": [
    {
     "name": "stdout",
     "output_type": "stream",
     "text": [
      "Num GPUs Available: 0\n"
     ]
    }
   ],
   "source": [
    "import tensorflow as tf\n",
    "print(\"Num GPUs Available:\", len(tf.config.list_physical_devices('GPU')))"
   ]
  },
  {
   "cell_type": "markdown",
   "metadata": {},
   "source": [
    "## DAPI Extraction\n",
    "\n",
    "Use `DAPI_extraction.ipynb` to get only DAPI intensity signal from spectrally unmixed component data. The output directory from there should be `in_dir` in the code below."
   ]
  },
  {
   "cell_type": "markdown",
   "metadata": {},
   "source": [
    "## Nuclear Segmentation "
   ]
  },
  {
   "cell_type": "code",
   "execution_count": null,
   "metadata": {},
   "outputs": [],
   "source": [
    "def Mesmer_segmentor(in_dir, save_dir_seg, measure_time_fpath=None):\n",
    "    '''\n",
    "    Produces label masks as nuclear segmentation output of Mesmer segementation algorithm\n",
    "\n",
    "    Parameters\n",
    "    in_dir: str\n",
    "        the path to the directory containing the grayscaled DAPI channel images of various fields. All images should be in .tiff format\n",
    "    save_dir_seg: str\n",
    "        the path to the directory where the segmented images will be saved as masks. Each tiff image in the input directory will\n",
    "        have a corresponding mask in the directory provided by the user\n",
    "    '''\n",
    "    \n",
    "    times_df_dict = {'img': [], 'time_seconds': []}\n",
    "    # iterating over all files in the input directory\n",
    "    for file in os.listdir(in_dir):\n",
    "        # only processes tiff images\n",
    "        if file[-5:]=='.tiff' or file[-4:]=='.tif':\n",
    "            # reads the grayscaled DAPI channel of each field as an array\n",
    "            DAPI_gray = np.array([io.imread(os.path.join(in_dir, file))])\n",
    "            # Add a new axis and repeat along the new axis\n",
    "            DAPI_gray = np.repeat(DAPI_gray[:, :, :, np.newaxis], 3, axis=3)\n",
    "            print(DAPI_gray.shape)\n",
    "            # first and third channels should be zero for Mesmer to perform nuclear segmentation\n",
    "            DAPI_gray[:, :, : , 0] = 0\n",
    "            DAPI_gray[:, :, : , 2] = 0\n",
    "            # Creates an \"rgb image\" where green channel is nucleus and the blue channel is cytoplasm (zeros over\n",
    "            # here since performing only nuclear segmentation)\n",
    "            rgb_images = create_rgb_image(DAPI_gray[:, :, :, 1:], channel_colors=['green', 'blue'])\n",
    "            # predicting nuclei using the Mesmer model\n",
    "            app = Mesmer()\n",
    "            start_time = time.time()\n",
    "            segmentation_predictions = app.predict(rgb_images[:, :, :, 1:], image_mpp=0.5, compartment='nuclear')\n",
    "            end_time = time.time()\n",
    "            # extracting nuclei label array\n",
    "            label_mask = segmentation_predictions[0, :, :, 0]\n",
    "            io.imsave(os.path.join(save_dir_seg, file[:file.find('.')] + '.tiff'), label_mask)\n",
    "            time_taken = end_time - start_time\n",
    "            times_df_dict['img'].append(file)\n",
    "            times_df_dict['time_seconds'].append(time_taken)\n",
    "            \n",
    "        else:\n",
    "            pass\n",
    "\n",
    "    if measure_time_fpath is not None:\n",
    "        times_df = pd.DataFrame(times_df_dict)\n",
    "        times_df.to_csv(measure_time_fpath)\n",
    "    else:\n",
    "        pass\n",
    "        \n",
    "    return None"
   ]
  },
  {
   "cell_type": "markdown",
   "metadata": {},
   "source": [
    "## Post Processing \n",
    "Post-processing of predicted label masks into binary masks for evaluation. The overall effect of this step is to separate touching nuclei by adding a 2-pixel gap (one-pixel erosion on each nucleus). Next, binary masks (both segmented and ground truth data) can be used to compute the F1-scores by utilizing connected component analysis. "
   ]
  },
  {
   "cell_type": "code",
   "execution_count": 4,
   "metadata": {},
   "outputs": [],
   "source": [
    "def postprocess(save_dir_seg, save_dir_bin):\n",
    "    '''\n",
    "    Produces binary masks for evaluation from the labelled mask output from the Mesmer algorithm\n",
    "\n",
    "    Parameters\n",
    "    save_dir_seg: str\n",
    "        the path to the directory containing the label masks output by the Mesmer algorithm with the Mesmer_segmentor function. All images should\n",
    "        be in .tiff format\n",
    "    save_dir_bin: str\n",
    "        the path to the directory where the binary images will be saved as masks. Each tiff image in the input directory will\n",
    "        have a corresponding mask in the directory provided by the user\n",
    "    '''\n",
    "\n",
    "    # iterating over all files in the input directory\n",
    "    for file in os.listdir(save_dir_seg):\n",
    "        # only processes tiff images\n",
    "        if file[-5:]=='.tiff' or file[-4:]=='.tif':\n",
    "            # Finding the pixels that are touching between any two nuclei\n",
    "            label_mask = io.imread(os.path.join(save_dir_seg, file))\n",
    "            boundary_bool = skimage.segmentation.find_boundaries(label_mask, connectivity=label_mask.ndim,\n",
    "                                                                 mode='outer', background=0)\n",
    "            # Converting these pixels to the background value in the label array\n",
    "            label_mask[boundary_bool] = 0\n",
    "            # Converting the label array into a binary mask of foreground (255) and background (0)\n",
    "            nuclei_mask_final = np.zeros((label_mask.shape[0], label_mask.shape[1]))\n",
    "            nuclei_mask_final[label_mask != 0] = 255\n",
    "            nuclei_mask_final = np.uint8(nuclei_mask_final)\n",
    "            \n",
    "            # saving the binary mask in the save directory\n",
    "            io.imsave(os.path.join(save_dir_bin, file[:file.find('.')] + '.tiff'), nuclei_mask_final)\n",
    "        else:\n",
    "            pass\n",
    "        \n",
    "    return None"
   ]
  },
  {
   "cell_type": "code",
   "execution_count": 5,
   "metadata": {},
   "outputs": [
    {
     "name": "stdout",
     "output_type": "stream",
     "text": [
      "(1, 1004, 1340, 3)\n",
      "Downloading data from https://deepcell-data.s3-us-west-1.amazonaws.com/saved-models/MultiplexSegmentation-9.tar.gz\n",
      "96886784/96885295 [==============================] - 4s 0us/step\n",
      "96894976/96885295 [==============================] - 4s 0us/step\n",
      "WARNING:tensorflow:No training configuration found in save file, so the model was *not* compiled. Compile it manually.\n"
     ]
    },
    {
     "name": "stderr",
     "output_type": "stream",
     "text": [
      "WARNING:root:Found constant value array in batch 0 and channel 1. Normalizing as zeros.\n",
      "C:\\Users\\Waluigi\\AppData\\Roaming\\Python\\Python310\\site-packages\\skimage\\_shared\\utils.py:328: UserWarning: D:\\nuclear_seg\\Mesmer_preds\\seg\\P01-10001(54032.tiff is a low contrast image\n",
      "  return func(*args, **kwargs)\n"
     ]
    },
    {
     "name": "stdout",
     "output_type": "stream",
     "text": [
      "(1, 1004, 1340, 3)\n",
      "WARNING:tensorflow:No training configuration found in save file, so the model was *not* compiled. Compile it manually.\n"
     ]
    },
    {
     "name": "stderr",
     "output_type": "stream",
     "text": [
      "WARNING:tensorflow:No training configuration found in save file, so the model was *not* compiled. Compile it manually.\n",
      "WARNING:root:Found constant value array in batch 0 and channel 1. Normalizing as zeros.\n",
      "C:\\Users\\Waluigi\\AppData\\Roaming\\Python\\Python310\\site-packages\\skimage\\_shared\\utils.py:328: UserWarning: D:\\nuclear_seg\\Mesmer_preds\\seg\\P01-10002(41478.tiff is a low contrast image\n",
      "  return func(*args, **kwargs)\n"
     ]
    },
    {
     "name": "stdout",
     "output_type": "stream",
     "text": [
      "(1, 1004, 1340, 3)\n",
      "WARNING:tensorflow:No training configuration found in save file, so the model was *not* compiled. Compile it manually.\n"
     ]
    },
    {
     "name": "stderr",
     "output_type": "stream",
     "text": [
      "WARNING:tensorflow:No training configuration found in save file, so the model was *not* compiled. Compile it manually.\n",
      "WARNING:root:Found constant value array in batch 0 and channel 1. Normalizing as zeros.\n",
      "C:\\Users\\Waluigi\\AppData\\Roaming\\Python\\Python310\\site-packages\\skimage\\_shared\\utils.py:328: UserWarning: D:\\nuclear_seg\\Mesmer_preds\\seg\\P01-10003(59622.tiff is a low contrast image\n",
      "  return func(*args, **kwargs)\n"
     ]
    },
    {
     "name": "stdout",
     "output_type": "stream",
     "text": [
      "(1, 1004, 1340, 3)\n",
      "WARNING:tensorflow:No training configuration found in save file, so the model was *not* compiled. Compile it manually.\n"
     ]
    },
    {
     "name": "stderr",
     "output_type": "stream",
     "text": [
      "WARNING:tensorflow:No training configuration found in save file, so the model was *not* compiled. Compile it manually.\n",
      "WARNING:root:Found constant value array in batch 0 and channel 1. Normalizing as zeros.\n",
      "C:\\Users\\Waluigi\\AppData\\Roaming\\Python\\Python310\\site-packages\\skimage\\_shared\\utils.py:328: UserWarning: D:\\nuclear_seg\\Mesmer_preds\\seg\\P01-10004(45412.tiff is a low contrast image\n",
      "  return func(*args, **kwargs)\n"
     ]
    },
    {
     "name": "stdout",
     "output_type": "stream",
     "text": [
      "(1, 1004, 1340, 3)\n",
      "WARNING:tensorflow:No training configuration found in save file, so the model was *not* compiled. Compile it manually.\n"
     ]
    },
    {
     "name": "stderr",
     "output_type": "stream",
     "text": [
      "WARNING:tensorflow:No training configuration found in save file, so the model was *not* compiled. Compile it manually.\n",
      "WARNING:root:Found constant value array in batch 0 and channel 1. Normalizing as zeros.\n",
      "C:\\Users\\Waluigi\\AppData\\Roaming\\Python\\Python310\\site-packages\\skimage\\_shared\\utils.py:328: UserWarning: D:\\nuclear_seg\\Mesmer_preds\\seg\\P01-10005(54191.tiff is a low contrast image\n",
      "  return func(*args, **kwargs)\n"
     ]
    },
    {
     "name": "stdout",
     "output_type": "stream",
     "text": [
      "(1, 1004, 1340, 3)\n",
      "WARNING:tensorflow:No training configuration found in save file, so the model was *not* compiled. Compile it manually.\n"
     ]
    },
    {
     "name": "stderr",
     "output_type": "stream",
     "text": [
      "WARNING:tensorflow:No training configuration found in save file, so the model was *not* compiled. Compile it manually.\n",
      "WARNING:root:Found constant value array in batch 0 and channel 1. Normalizing as zeros.\n",
      "C:\\Users\\Waluigi\\AppData\\Roaming\\Python\\Python310\\site-packages\\skimage\\_shared\\utils.py:328: UserWarning: D:\\nuclear_seg\\Mesmer_preds\\seg\\P01-10007(43705,10821)Full_Dapi_Png.tiff is a low contrast image\n",
      "  return func(*args, **kwargs)\n"
     ]
    },
    {
     "name": "stdout",
     "output_type": "stream",
     "text": [
      "(1, 2008, 2684, 3)\n",
      "WARNING:tensorflow:No training configuration found in save file, so the model was *not* compiled. Compile it manually.\n"
     ]
    },
    {
     "name": "stderr",
     "output_type": "stream",
     "text": [
      "WARNING:tensorflow:No training configuration found in save file, so the model was *not* compiled. Compile it manually.\n",
      "WARNING:root:Found constant value array in batch 0 and channel 1. Normalizing as zeros.\n",
      "C:\\Users\\Waluigi\\AppData\\Roaming\\Python\\Python310\\site-packages\\skimage\\_shared\\utils.py:328: UserWarning: D:\\nuclear_seg\\Mesmer_preds\\seg\\P02-10002(46825.tiff is a low contrast image\n",
      "  return func(*args, **kwargs)\n"
     ]
    },
    {
     "name": "stdout",
     "output_type": "stream",
     "text": [
      "(1, 2008, 2684, 3)\n",
      "WARNING:tensorflow:No training configuration found in save file, so the model was *not* compiled. Compile it manually.\n"
     ]
    },
    {
     "name": "stderr",
     "output_type": "stream",
     "text": [
      "WARNING:tensorflow:No training configuration found in save file, so the model was *not* compiled. Compile it manually.\n",
      "WARNING:root:Found constant value array in batch 0 and channel 1. Normalizing as zeros.\n",
      "C:\\Users\\Waluigi\\AppData\\Roaming\\Python\\Python310\\site-packages\\skimage\\_shared\\utils.py:328: UserWarning: D:\\nuclear_seg\\Mesmer_preds\\seg\\P03-10006(53346.tiff is a low contrast image\n",
      "  return func(*args, **kwargs)\n"
     ]
    },
    {
     "name": "stdout",
     "output_type": "stream",
     "text": [
      "(1, 1000, 1340, 3)\n",
      "WARNING:tensorflow:No training configuration found in save file, so the model was *not* compiled. Compile it manually.\n"
     ]
    },
    {
     "name": "stderr",
     "output_type": "stream",
     "text": [
      "WARNING:tensorflow:No training configuration found in save file, so the model was *not* compiled. Compile it manually.\n",
      "WARNING:root:Found constant value array in batch 0 and channel 1. Normalizing as zeros.\n",
      "C:\\Users\\Waluigi\\AppData\\Roaming\\Python\\Python310\\site-packages\\skimage\\_shared\\utils.py:328: UserWarning: D:\\nuclear_seg\\Mesmer_preds\\seg\\P03-10009(53725.tiff is a low contrast image\n",
      "  return func(*args, **kwargs)\n"
     ]
    },
    {
     "name": "stdout",
     "output_type": "stream",
     "text": [
      "(1, 1000, 1340, 3)\n",
      "WARNING:tensorflow:No training configuration found in save file, so the model was *not* compiled. Compile it manually.\n"
     ]
    },
    {
     "name": "stderr",
     "output_type": "stream",
     "text": [
      "WARNING:tensorflow:No training configuration found in save file, so the model was *not* compiled. Compile it manually.\n",
      "WARNING:root:Found constant value array in batch 0 and channel 1. Normalizing as zeros.\n",
      "C:\\Users\\Waluigi\\AppData\\Roaming\\Python\\Python310\\site-packages\\skimage\\_shared\\utils.py:328: UserWarning: D:\\nuclear_seg\\Mesmer_preds\\seg\\P03-10011(56477.tiff is a low contrast image\n",
      "  return func(*args, **kwargs)\n"
     ]
    },
    {
     "name": "stdout",
     "output_type": "stream",
     "text": [
      "(1, 1004, 1344, 3)\n",
      "WARNING:tensorflow:No training configuration found in save file, so the model was *not* compiled. Compile it manually.\n"
     ]
    },
    {
     "name": "stderr",
     "output_type": "stream",
     "text": [
      "WARNING:tensorflow:No training configuration found in save file, so the model was *not* compiled. Compile it manually.\n",
      "WARNING:root:Found constant value array in batch 0 and channel 1. Normalizing as zeros.\n",
      "C:\\Users\\Waluigi\\AppData\\Roaming\\Python\\Python310\\site-packages\\skimage\\_shared\\utils.py:328: UserWarning: D:\\nuclear_seg\\Mesmer_preds\\seg\\P04-1002(49602.tiff is a low contrast image\n",
      "  return func(*args, **kwargs)\n"
     ]
    },
    {
     "name": "stdout",
     "output_type": "stream",
     "text": [
      "(1, 2008, 2688, 3)\n",
      "WARNING:tensorflow:No training configuration found in save file, so the model was *not* compiled. Compile it manually.\n"
     ]
    },
    {
     "name": "stderr",
     "output_type": "stream",
     "text": [
      "WARNING:tensorflow:No training configuration found in save file, so the model was *not* compiled. Compile it manually.\n",
      "WARNING:root:Found constant value array in batch 0 and channel 1. Normalizing as zeros.\n",
      "C:\\Users\\Waluigi\\AppData\\Roaming\\Python\\Python310\\site-packages\\skimage\\_shared\\utils.py:328: UserWarning: D:\\nuclear_seg\\Mesmer_preds\\seg\\P05-10002(50311.tiff is a low contrast image\n",
      "  return func(*args, **kwargs)\n"
     ]
    },
    {
     "name": "stdout",
     "output_type": "stream",
     "text": [
      "(1, 2008, 2688, 3)\n",
      "WARNING:tensorflow:No training configuration found in save file, so the model was *not* compiled. Compile it manually.\n"
     ]
    },
    {
     "name": "stderr",
     "output_type": "stream",
     "text": [
      "WARNING:tensorflow:No training configuration found in save file, so the model was *not* compiled. Compile it manually.\n",
      "WARNING:root:Found constant value array in batch 0 and channel 1. Normalizing as zeros.\n",
      "C:\\Users\\Waluigi\\AppData\\Roaming\\Python\\Python310\\site-packages\\skimage\\_shared\\utils.py:328: UserWarning: D:\\nuclear_seg\\Mesmer_preds\\seg\\P05-10004(52117.tiff is a low contrast image\n",
      "  return func(*args, **kwargs)\n"
     ]
    },
    {
     "name": "stdout",
     "output_type": "stream",
     "text": [
      "(1, 2008, 2688, 3)\n",
      "WARNING:tensorflow:No training configuration found in save file, so the model was *not* compiled. Compile it manually.\n"
     ]
    },
    {
     "name": "stderr",
     "output_type": "stream",
     "text": [
      "WARNING:tensorflow:No training configuration found in save file, so the model was *not* compiled. Compile it manually.\n",
      "WARNING:root:Found constant value array in batch 0 and channel 1. Normalizing as zeros.\n",
      "C:\\Users\\Waluigi\\AppData\\Roaming\\Python\\Python310\\site-packages\\skimage\\_shared\\utils.py:328: UserWarning: D:\\nuclear_seg\\Mesmer_preds\\seg\\P05-10005(59531.tiff is a low contrast image\n",
      "  return func(*args, **kwargs)\n"
     ]
    },
    {
     "name": "stdout",
     "output_type": "stream",
     "text": [
      "(1, 2008, 2688, 3)\n",
      "WARNING:tensorflow:No training configuration found in save file, so the model was *not* compiled. Compile it manually.\n"
     ]
    },
    {
     "name": "stderr",
     "output_type": "stream",
     "text": [
      "WARNING:tensorflow:No training configuration found in save file, so the model was *not* compiled. Compile it manually.\n",
      "WARNING:root:Found constant value array in batch 0 and channel 1. Normalizing as zeros.\n",
      "C:\\Users\\Waluigi\\AppData\\Roaming\\Python\\Python310\\site-packages\\skimage\\_shared\\utils.py:328: UserWarning: D:\\nuclear_seg\\Mesmer_preds\\seg\\P05-10006(45458.tiff is a low contrast image\n",
      "  return func(*args, **kwargs)\n"
     ]
    },
    {
     "name": "stdout",
     "output_type": "stream",
     "text": [
      "(1, 2008, 2688, 3)\n",
      "WARNING:tensorflow:No training configuration found in save file, so the model was *not* compiled. Compile it manually.\n"
     ]
    },
    {
     "name": "stderr",
     "output_type": "stream",
     "text": [
      "WARNING:tensorflow:No training configuration found in save file, so the model was *not* compiled. Compile it manually.\n",
      "WARNING:root:Found constant value array in batch 0 and channel 1. Normalizing as zeros.\n",
      "C:\\Users\\Waluigi\\AppData\\Roaming\\Python\\Python310\\site-packages\\skimage\\_shared\\utils.py:328: UserWarning: D:\\nuclear_seg\\Mesmer_preds\\seg\\P05-10007(54516.tiff is a low contrast image\n",
      "  return func(*args, **kwargs)\n"
     ]
    },
    {
     "name": "stdout",
     "output_type": "stream",
     "text": [
      "(1, 2008, 2688, 3)\n",
      "WARNING:tensorflow:No training configuration found in save file, so the model was *not* compiled. Compile it manually.\n"
     ]
    },
    {
     "name": "stderr",
     "output_type": "stream",
     "text": [
      "WARNING:tensorflow:No training configuration found in save file, so the model was *not* compiled. Compile it manually.\n",
      "WARNING:root:Found constant value array in batch 0 and channel 1. Normalizing as zeros.\n",
      "C:\\Users\\Waluigi\\AppData\\Roaming\\Python\\Python310\\site-packages\\skimage\\_shared\\utils.py:328: UserWarning: D:\\nuclear_seg\\Mesmer_preds\\seg\\P05-10008(53049.tiff is a low contrast image\n",
      "  return func(*args, **kwargs)\n"
     ]
    },
    {
     "name": "stdout",
     "output_type": "stream",
     "text": [
      "(1, 2008, 2688, 3)\n",
      "WARNING:tensorflow:No training configuration found in save file, so the model was *not* compiled. Compile it manually.\n"
     ]
    },
    {
     "name": "stderr",
     "output_type": "stream",
     "text": [
      "WARNING:tensorflow:No training configuration found in save file, so the model was *not* compiled. Compile it manually.\n",
      "WARNING:root:Found constant value array in batch 0 and channel 1. Normalizing as zeros.\n",
      "C:\\Users\\Waluigi\\AppData\\Roaming\\Python\\Python310\\site-packages\\skimage\\_shared\\utils.py:328: UserWarning: D:\\nuclear_seg\\Mesmer_preds\\seg\\P05-9997(47655.tiff is a low contrast image\n",
      "  return func(*args, **kwargs)\n"
     ]
    },
    {
     "name": "stdout",
     "output_type": "stream",
     "text": [
      "(1, 2008, 2688, 3)\n",
      "WARNING:tensorflow:No training configuration found in save file, so the model was *not* compiled. Compile it manually.\n"
     ]
    },
    {
     "name": "stderr",
     "output_type": "stream",
     "text": [
      "WARNING:tensorflow:No training configuration found in save file, so the model was *not* compiled. Compile it manually.\n",
      "WARNING:root:Found constant value array in batch 0 and channel 1. Normalizing as zeros.\n",
      "C:\\Users\\Waluigi\\AppData\\Roaming\\Python\\Python310\\site-packages\\skimage\\_shared\\utils.py:328: UserWarning: D:\\nuclear_seg\\Mesmer_preds\\seg\\P05-9998(49401.tiff is a low contrast image\n",
      "  return func(*args, **kwargs)\n"
     ]
    },
    {
     "name": "stdout",
     "output_type": "stream",
     "text": [
      "(1, 2008, 2688, 3)\n",
      "WARNING:tensorflow:No training configuration found in save file, so the model was *not* compiled. Compile it manually.\n"
     ]
    },
    {
     "name": "stderr",
     "output_type": "stream",
     "text": [
      "WARNING:tensorflow:No training configuration found in save file, so the model was *not* compiled. Compile it manually.\n",
      "WARNING:root:Found constant value array in batch 0 and channel 1. Normalizing as zeros.\n",
      "C:\\Users\\Waluigi\\AppData\\Roaming\\Python\\Python310\\site-packages\\skimage\\_shared\\utils.py:328: UserWarning: D:\\nuclear_seg\\Mesmer_preds\\seg\\P05-9999(44325.tiff is a low contrast image\n",
      "  return func(*args, **kwargs)\n"
     ]
    },
    {
     "name": "stdout",
     "output_type": "stream",
     "text": [
      "(1, 2008, 2684, 3)\n",
      "WARNING:tensorflow:No training configuration found in save file, so the model was *not* compiled. Compile it manually.\n"
     ]
    },
    {
     "name": "stderr",
     "output_type": "stream",
     "text": [
      "WARNING:tensorflow:No training configuration found in save file, so the model was *not* compiled. Compile it manually.\n",
      "WARNING:root:Found constant value array in batch 0 and channel 1. Normalizing as zeros.\n",
      "C:\\Users\\Waluigi\\AppData\\Roaming\\Python\\Python310\\site-packages\\skimage\\_shared\\utils.py:328: UserWarning: D:\\nuclear_seg\\Mesmer_preds\\seg\\P07-10002(53508.tiff is a low contrast image\n",
      "  return func(*args, **kwargs)\n"
     ]
    },
    {
     "name": "stdout",
     "output_type": "stream",
     "text": [
      "(1, 2008, 2684, 3)\n",
      "WARNING:tensorflow:No training configuration found in save file, so the model was *not* compiled. Compile it manually.\n"
     ]
    },
    {
     "name": "stderr",
     "output_type": "stream",
     "text": [
      "WARNING:tensorflow:No training configuration found in save file, so the model was *not* compiled. Compile it manually.\n",
      "WARNING:root:Found constant value array in batch 0 and channel 1. Normalizing as zeros.\n",
      "C:\\Users\\Waluigi\\AppData\\Roaming\\Python\\Python310\\site-packages\\skimage\\_shared\\utils.py:328: UserWarning: D:\\nuclear_seg\\Mesmer_preds\\seg\\P07-10003(49716.tiff is a low contrast image\n",
      "  return func(*args, **kwargs)\n"
     ]
    },
    {
     "name": "stdout",
     "output_type": "stream",
     "text": [
      "(1, 2008, 2684, 3)\n",
      "WARNING:tensorflow:No training configuration found in save file, so the model was *not* compiled. Compile it manually.\n"
     ]
    },
    {
     "name": "stderr",
     "output_type": "stream",
     "text": [
      "WARNING:tensorflow:No training configuration found in save file, so the model was *not* compiled. Compile it manually.\n",
      "WARNING:root:Found constant value array in batch 0 and channel 1. Normalizing as zeros.\n",
      "C:\\Users\\Waluigi\\AppData\\Roaming\\Python\\Python310\\site-packages\\skimage\\_shared\\utils.py:328: UserWarning: D:\\nuclear_seg\\Mesmer_preds\\seg\\P07-10004(53024.tiff is a low contrast image\n",
      "  return func(*args, **kwargs)\n"
     ]
    },
    {
     "name": "stdout",
     "output_type": "stream",
     "text": [
      "(1, 2008, 2684, 3)\n",
      "WARNING:tensorflow:No training configuration found in save file, so the model was *not* compiled. Compile it manually.\n"
     ]
    },
    {
     "name": "stderr",
     "output_type": "stream",
     "text": [
      "WARNING:tensorflow:No training configuration found in save file, so the model was *not* compiled. Compile it manually.\n",
      "WARNING:root:Found constant value array in batch 0 and channel 1. Normalizing as zeros.\n",
      "C:\\Users\\Waluigi\\AppData\\Roaming\\Python\\Python310\\site-packages\\skimage\\_shared\\utils.py:328: UserWarning: D:\\nuclear_seg\\Mesmer_preds\\seg\\P07-9999(47658.tiff is a low contrast image\n",
      "  return func(*args, **kwargs)\n"
     ]
    },
    {
     "name": "stdout",
     "output_type": "stream",
     "text": [
      "(1, 2008, 2684, 3)\n",
      "WARNING:tensorflow:No training configuration found in save file, so the model was *not* compiled. Compile it manually.\n"
     ]
    },
    {
     "name": "stderr",
     "output_type": "stream",
     "text": [
      "WARNING:tensorflow:No training configuration found in save file, so the model was *not* compiled. Compile it manually.\n",
      "WARNING:root:Found constant value array in batch 0 and channel 1. Normalizing as zeros.\n",
      "C:\\Users\\Waluigi\\AppData\\Roaming\\Python\\Python310\\site-packages\\skimage\\_shared\\utils.py:328: UserWarning: D:\\nuclear_seg\\Mesmer_preds\\seg\\P11-10001(52346.tiff is a low contrast image\n",
      "  return func(*args, **kwargs)\n"
     ]
    },
    {
     "name": "stdout",
     "output_type": "stream",
     "text": [
      "(1, 2008, 2684, 3)\n",
      "WARNING:tensorflow:No training configuration found in save file, so the model was *not* compiled. Compile it manually.\n"
     ]
    },
    {
     "name": "stderr",
     "output_type": "stream",
     "text": [
      "WARNING:tensorflow:No training configuration found in save file, so the model was *not* compiled. Compile it manually.\n",
      "WARNING:root:Found constant value array in batch 0 and channel 1. Normalizing as zeros.\n",
      "C:\\Users\\Waluigi\\AppData\\Roaming\\Python\\Python310\\site-packages\\skimage\\_shared\\utils.py:328: UserWarning: D:\\nuclear_seg\\Mesmer_preds\\seg\\P11-10003(58107.tiff is a low contrast image\n",
      "  return func(*args, **kwargs)\n"
     ]
    },
    {
     "name": "stdout",
     "output_type": "stream",
     "text": [
      "(1, 2008, 2684, 3)\n",
      "WARNING:tensorflow:No training configuration found in save file, so the model was *not* compiled. Compile it manually.\n"
     ]
    },
    {
     "name": "stderr",
     "output_type": "stream",
     "text": [
      "WARNING:tensorflow:No training configuration found in save file, so the model was *not* compiled. Compile it manually.\n",
      "WARNING:root:Found constant value array in batch 0 and channel 1. Normalizing as zeros.\n",
      "C:\\Users\\Waluigi\\AppData\\Roaming\\Python\\Python310\\site-packages\\skimage\\_shared\\utils.py:328: UserWarning: D:\\nuclear_seg\\Mesmer_preds\\seg\\P12-10001(43332.tiff is a low contrast image\n",
      "  return func(*args, **kwargs)\n"
     ]
    }
   ],
   "source": [
    "# Replace the strings for in_dir, save_dir_seg and save_dir_bin to paths on the local machine\n",
    "in_dir = r\"D:\\nuclear_seg\\external_DAPI_tiff\"\n",
    "save_dir_seg = r\"D:\\nuclear_seg\\Mesmer_preds\\seg\"\n",
    "save_dir_bin = r\"D:\\nuclear_seg\\Mesmer_preds\\bin\"\n",
    "# To create binary masks using Mesmer segmentation algorithm\n",
    "Mesmer_segmentor(in_dir, save_dir_seg, measure_time_fpath=r\"D:\\nuclear_seg\\Mesmer_preds\\Mesmer_times.csv\")\n",
    "postprocess(save_dir_seg,save_dir_bin)"
   ]
  },
  {
   "cell_type": "code",
   "execution_count": null,
   "metadata": {},
   "outputs": [],
   "source": []
  }
 ],
 "metadata": {
  "colab": {
   "provenance": [
    {
     "file_id": "1nA4Uyg_-Qzi1hUmWgpmS724a8Iz8aJ_9",
     "timestamp": 1676511797307
    }
   ]
  },
  "kernelspec": {
   "display_name": "nuclear_seg",
   "language": "python",
   "name": "python3"
  },
  "language_info": {
   "codemirror_mode": {
    "name": "ipython",
    "version": 3
   },
   "file_extension": ".py",
   "mimetype": "text/x-python",
   "name": "python",
   "nbconvert_exporter": "python",
   "pygments_lexer": "ipython3",
   "version": "3.10.12"
  }
 },
 "nbformat": 4,
 "nbformat_minor": 4
}
