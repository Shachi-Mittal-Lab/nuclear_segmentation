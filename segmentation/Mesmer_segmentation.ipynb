{
 "cells": [
  {
   "cell_type": "code",
   "execution_count": 1,
   "metadata": {
    "executionInfo": {
     "elapsed": 324,
     "status": "ok",
     "timestamp": 1692043078768,
     "user": {
      "displayName": "Georgii Khachaturov",
      "userId": "04230512400272876169"
     },
     "user_tz": 420
    },
    "id": "W0JB0dMAWa_B"
   },
   "outputs": [],
   "source": [
    "import numpy as np\n",
    "import matplotlib.pyplot as plt\n",
    "import tifffile as tiff\n",
    "import os\n",
    "from deepcell.applications import Mesmer\n",
    "from deepcell.utils.plot_utils import make_outline_overlay\n",
    "from deepcell.utils.tracking_utils import trks_stats, load_trks\n",
    "from deepcell.utils.plot_utils import create_rgb_image\n",
    "import skimage.io as io\n",
    "import skimage.segmentation"
   ]
  },
  {
   "cell_type": "markdown",
   "metadata": {},
   "source": [
    "## Nuclear Segmentation "
   ]
  },
  {
   "cell_type": "code",
   "execution_count": 2,
   "metadata": {},
   "outputs": [],
   "source": [
    "def Mesmer_segmentor(in_dir, save_dir_seg):\n",
    "    '''\n",
    "    Produces label masks as nuclear segmentation output of Mesmer segementation algorithm\n",
    "\n",
    "    Parameters\n",
    "    in_dir: str\n",
    "        the path to the directory containing the grayscaled DAPI channel images of various fields. All images should be in .tiff format\n",
    "    save_dir_seg: str\n",
    "        the path to the directory where the segmented images will be saved as masks. Each tiff image in the input directory will\n",
    "        have a corresponding mask in the directory provided by the user\n",
    "    '''\n",
    "    \n",
    "    # iterating over all files in the input directory\n",
    "    for file in os.listdir(in_dir):\n",
    "        # only processes tiff images\n",
    "        if file[-5:]=='.tiff' or file[-4:]=='.tif':\n",
    "            # reads the grayscaled DAPI channel of each field as an array\n",
    "            DAPI_gray = np.array([io.imread(os.path.join(in_dir, file))])\n",
    "            # first and third channels should be zero for Mesmer to perform nuclear segmentation\n",
    "            DAPI_gray[:, :, : , 0] = 0\n",
    "            DAPI_gray[:, :, : , 2] = 0\n",
    "            # Creates an \"rgb image\" where green channel is nucleus and the blue channel is cytoplasm (zeros over\n",
    "            # here since performing only nuclear segmentation)\n",
    "            rgb_images = create_rgb_image(DAPI_gray[:, :, :, 1:], channel_colors=['green', 'blue'])\n",
    "            # predicting nuclei using the Mesmer model\n",
    "            app = Mesmer()\n",
    "            segmentation_predictions = app.predict(rgb_images[:, :, :, 1:], image_mpp=0.5, compartment='nuclear')\n",
    "            # extracting nuclei label array\n",
    "            label_mask = segmentation_predictions[0, :, :, 0]\n",
    "            io.imsave(os.path.join(save_dir_seg, file[:file.find('.')] + '.tiff'), label_mask)\n",
    "            \n",
    "        else:\n",
    "            pass\n",
    "        \n",
    "    return None"
   ]
  },
  {
   "cell_type": "markdown",
   "metadata": {},
   "source": [
    "## Post Processing \n",
    "Post-processing of predicted label masks into binary masks for evaluation. The overall effect of this step is to separate touching nuclei by adding a 2-pixel gap (one-pixel erosion on each nucleus). Next, binary masks (both segmented and ground truth data) can be used to compute the F1-scores by utilizing connected component analysis. "
   ]
  },
  {
   "cell_type": "code",
   "execution_count": 3,
   "metadata": {},
   "outputs": [],
   "source": [
    "def postprocess(save_dir_seg, save_dir_bin):\n",
    "    '''\n",
    "    Produces binary masks for evaluation from the labelled mask output from the Mesmer algorithm\n",
    "\n",
    "    Parameters\n",
    "    save_dir_seg: str\n",
    "        the path to the directory containing the label masks output by the Mesmer algorithm with the Mesmer_segmentor function. All images should\n",
    "        be in .tiff format\n",
    "    save_dir_bin: str\n",
    "        the path to the directory where the binary images will be saved as masks. Each tiff image in the input directory will\n",
    "        have a corresponding mask in the directory provided by the user\n",
    "    '''\n",
    "\n",
    "    # iterating over all files in the input directory\n",
    "    for file in os.listdir(save_dir_seg):\n",
    "        # only processes tiff images\n",
    "        if file[-5:]=='.tiff' or file[-4:]=='.tif':\n",
    "            # Finding the pixels that are touching between any two nuclei\n",
    "            label_mask = io.imread(os.path.join(save_dir_seg, file))\n",
    "            boundary_bool = skimage.segmentation.find_boundaries(label_mask, connectivity=label_mask.ndim,\n",
    "                                                                 mode='outer', background=0)\n",
    "            # Converting these pixels to the background value in the label array\n",
    "            label_mask[boundary_bool] = 0\n",
    "            # Converting the label array into a binary mask of foreground (255) and background (0)\n",
    "            nuclei_mask_final = np.zeros((label_mask.shape[0], label_mask.shape[1]))\n",
    "            nuclei_mask_final[label_mask != 0] = 255\n",
    "            nuclei_mask_final = np.uint8(nuclei_mask_final)\n",
    "            \n",
    "            # saving the binary mask in the save directory\n",
    "            io.imsave(os.path.join(save_dir_bin, file[:file.find('.')] + '.tiff'), nuclei_mask_final)\n",
    "        else:\n",
    "            pass\n",
    "        \n",
    "    return None"
   ]
  },
  {
   "cell_type": "code",
   "execution_count": 4,
   "metadata": {},
   "outputs": [
    {
     "name": "stdout",
     "output_type": "stream",
     "text": [
      "WARNING:tensorflow:No training configuration found in save file, so the model was *not* compiled. Compile it manually.\n"
     ]
    },
    {
     "name": "stderr",
     "output_type": "stream",
     "text": [
      "WARNING:root:Found constant value array in batch 0 and channel 1. Normalizing as zeros.\n",
      "C:\\Users\\mrl\\AppData\\Local\\Temp\\ipykernel_3416\\1223174814.py:30: UserWarning: C:\\Users\\mrl\\Desktop\\nuclear_seg_github\\nuclear_segmentation\\imgs\\Mesmer_label_masks\\6plexTonsil_DAPI_gray.tiff is a low contrast image\n",
      "  io.imsave(os.path.join(save_dir_seg, file[:file.find('.')] + '.tiff'), label_mask)\n"
     ]
    },
    {
     "name": "stdout",
     "output_type": "stream",
     "text": [
      "WARNING:tensorflow:No training configuration found in save file, so the model was *not* compiled. Compile it manually.\n"
     ]
    },
    {
     "name": "stderr",
     "output_type": "stream",
     "text": [
      "WARNING:tensorflow:No training configuration found in save file, so the model was *not* compiled. Compile it manually.\n",
      "WARNING:root:Found constant value array in batch 0 and channel 1. Normalizing as zeros.\n",
      "C:\\Users\\mrl\\AppData\\Local\\Temp\\ipykernel_3416\\1223174814.py:30: UserWarning: C:\\Users\\mrl\\Desktop\\nuclear_seg_github\\nuclear_segmentation\\imgs\\Mesmer_label_masks\\Bph2_45174_14597_DAPI_gray.tiff is a low contrast image\n",
      "  io.imsave(os.path.join(save_dir_seg, file[:file.find('.')] + '.tiff'), label_mask)\n"
     ]
    },
    {
     "name": "stdout",
     "output_type": "stream",
     "text": [
      "WARNING:tensorflow:No training configuration found in save file, so the model was *not* compiled. Compile it manually.\n"
     ]
    },
    {
     "name": "stderr",
     "output_type": "stream",
     "text": [
      "WARNING:tensorflow:No training configuration found in save file, so the model was *not* compiled. Compile it manually.\n",
      "WARNING:root:Found constant value array in batch 0 and channel 1. Normalizing as zeros.\n",
      "C:\\Users\\mrl\\AppData\\Local\\Temp\\ipykernel_3416\\1223174814.py:30: UserWarning: C:\\Users\\mrl\\Desktop\\nuclear_seg_github\\nuclear_segmentation\\imgs\\Mesmer_label_masks\\TME11_12154_44141_DAPI_gray.tiff is a low contrast image\n",
      "  io.imsave(os.path.join(save_dir_seg, file[:file.find('.')] + '.tiff'), label_mask)\n"
     ]
    },
    {
     "name": "stdout",
     "output_type": "stream",
     "text": [
      "WARNING:tensorflow:No training configuration found in save file, so the model was *not* compiled. Compile it manually.\n"
     ]
    },
    {
     "name": "stderr",
     "output_type": "stream",
     "text": [
      "WARNING:tensorflow:No training configuration found in save file, so the model was *not* compiled. Compile it manually.\n",
      "WARNING:root:Found constant value array in batch 0 and channel 1. Normalizing as zeros.\n",
      "C:\\Users\\mrl\\AppData\\Local\\Temp\\ipykernel_3416\\1223174814.py:30: UserWarning: C:\\Users\\mrl\\Desktop\\nuclear_seg_github\\nuclear_segmentation\\imgs\\Mesmer_label_masks\\Tonsil_7color_Scan2_17096_47011_gray.tiff is a low contrast image\n",
      "  io.imsave(os.path.join(save_dir_seg, file[:file.find('.')] + '.tiff'), label_mask)\n"
     ]
    },
    {
     "name": "stdout",
     "output_type": "stream",
     "text": [
      "WARNING:tensorflow:No training configuration found in save file, so the model was *not* compiled. Compile it manually.\n"
     ]
    },
    {
     "name": "stderr",
     "output_type": "stream",
     "text": [
      "WARNING:tensorflow:No training configuration found in save file, so the model was *not* compiled. Compile it manually.\n",
      "WARNING:root:Found constant value array in batch 0 and channel 1. Normalizing as zeros.\n",
      "C:\\Users\\mrl\\AppData\\Local\\Temp\\ipykernel_3416\\1223174814.py:30: UserWarning: C:\\Users\\mrl\\Desktop\\nuclear_seg_github\\nuclear_segmentation\\imgs\\Mesmer_label_masks\\VISTA4_47265_15281_DAPI_gray.tiff is a low contrast image\n",
      "  io.imsave(os.path.join(save_dir_seg, file[:file.find('.')] + '.tiff'), label_mask)\n"
     ]
    }
   ],
   "source": [
    "# Replace the strings for in_dir, save_dir_seg and save_dir_bin to paths on the local machine\n",
    "in_dir = r'C:\\Users\\mrl\\Desktop\\nuclear_seg_github\\imgs\\DAPI_grayscale'\n",
    "save_dir_seg = r'C:\\Users\\mrl\\Desktop\\nuclear_seg_github\\imgs\\Mesmer_label_masks'\n",
    "save_dir_bin = r'C:\\Users\\mrl\\Desktop\\nuclear_seg_github\\imgs\\Mesmer_binary_masks'\n",
    "# To create binary masks using Mesmer segmentation algorithm\n",
    "Mesmer_segmentor(in_dir, save_dir_seg)\n",
    "postprocess(save_dir_seg,save_dir_bin)"
   ]
  }
 ],
 "metadata": {
  "colab": {
   "provenance": [
    {
     "file_id": "1nA4Uyg_-Qzi1hUmWgpmS724a8Iz8aJ_9",
     "timestamp": 1676511797307
    }
   ]
  },
  "kernelspec": {
   "display_name": "Python 3 (ipykernel)",
   "language": "python",
   "name": "python3"
  },
  "language_info": {
   "codemirror_mode": {
    "name": "ipython",
    "version": 3
   },
   "file_extension": ".py",
   "mimetype": "text/x-python",
   "name": "python",
   "nbconvert_exporter": "python",
   "pygments_lexer": "ipython3",
   "version": "3.10.12"
  },
  "vscode": {
   "interpreter": {
    "hash": "7a666879e664017b9c200781d41e6e9cda4f71b3875c8396578fdccce2d2df1c"
   }
  }
 },
 "nbformat": 4,
 "nbformat_minor": 4
}
