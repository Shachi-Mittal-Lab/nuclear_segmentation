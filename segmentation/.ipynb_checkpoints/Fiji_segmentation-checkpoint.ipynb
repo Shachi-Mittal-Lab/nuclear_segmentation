{
 "cells": [
  {
   "cell_type": "markdown",
   "id": "d92e9c96-4c1a-4c53-9af8-3b80894de88a",
   "metadata": {},
   "source": [
    "## Nuclear Segmentation in Fiji GUI"
   ]
  },
  {
   "cell_type": "markdown",
   "id": "c2d257e5-e26b-4e5b-adff-cac79ce1fc5e",
   "metadata": {},
   "source": [
    "* Load grayscale DAPI channel of the field\n",
    "* “Image” tab -> “Type” -> “8-bit” . Image must be 8 or 16-bit to support thresholding in ImageJ.\n",
    "* “Image” tab -> “Adjust” -> “Auto threshold” -> “Default” method with white objects on black background\n",
    "* “Fill Holes” NOT applied because Fiji tended to fill areas even outside of nuclei for some fields\n",
    "* “Process” tab -> “Binary” -> “Watershed” to separate touching nuclei using a watershed algorithm\n",
    "* “Analyze” tab -> “Analyze particles”: set particle size range and show “Masks”\n",
    "* Save the binary nuclei mask to local computer\n"
   ]
  },
  {
   "cell_type": "code",
   "execution_count": null,
   "id": "d2d8bf1d-d631-4d4a-8fd9-394b0e650a31",
   "metadata": {},
   "outputs": [],
   "source": []
  }
 ],
 "metadata": {
  "kernelspec": {
   "display_name": "Python 3 (ipykernel)",
   "language": "python",
   "name": "python3"
  },
  "language_info": {
   "codemirror_mode": {
    "name": "ipython",
    "version": 3
   },
   "file_extension": ".py",
   "mimetype": "text/x-python",
   "name": "python",
   "nbconvert_exporter": "python",
   "pygments_lexer": "ipython3",
   "version": "3.10.12"
  }
 },
 "nbformat": 4,
 "nbformat_minor": 5
}
